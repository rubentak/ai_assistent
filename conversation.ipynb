{
 "cells": [
  {
   "cell_type": "code",
   "execution_count": 1,
   "metadata": {
    "collapsed": true
   },
   "outputs": [
    {
     "ename": "IndentationError",
     "evalue": "expected an indented block after 'if' statement on line 78 (606879098.py, line 80)",
     "output_type": "error",
     "traceback": [
      "\u001B[0;36m  Cell \u001B[0;32mIn[1], line 80\u001B[0;36m\u001B[0m\n\u001B[0;31m    print(f\"\\n------------------------- Storyteller assistant stopped -----------------------------------\")\u001B[0m\n\u001B[0m    ^\u001B[0m\n\u001B[0;31mIndentationError\u001B[0m\u001B[0;31m:\u001B[0m expected an indented block after 'if' statement on line 78\n"
     ]
    }
   ],
   "source": [
    "# Import libraries\n",
    "import os\n",
    "import openai\n",
    "import credentials\n",
    "import sys\n",
    "import pyttsx3\n",
    "from audio_record import audio_rec\n",
    "from speech_text_whisper import get_transcript_whisper\n",
    "\n",
    "openai.api_key = credentials.api_key\n",
    "import time\n",
    "\n",
    "\n",
    "def get_transcript_whisper():\n",
    "    '''Get transcript of audio file with whisper api'''\n",
    "    openai.api_key = credentials.api_key\n",
    "    file = open(\"audio_output.wav\", \"rb\")\n",
    "    transcription = openai.Audio.transcribe(\"whisper-1\", file, response_format=\"json\")\n",
    "    text = transcription[\"text\"]\n",
    "    return text\n",
    "\n",
    "\n",
    "def run_GPT3(prompt):\n",
    "    '''Run GPT-3 with the prompt and return the response'''\n",
    "    response = openai.Completion.create(\n",
    "        engine=\"davinci\",\n",
    "        prompt=prompt,\n",
    "        temperature=0.7,\n",
    "        max_tokens=256,\n",
    "        top_p=1,\n",
    "        frequency_penalty=0,\n",
    "        presence_penalty=0\n",
    "    )\n",
    "    print(response)\n",
    "    return response\n",
    "\n",
    "\n",
    "def run_chatGPT():\n",
    "    '''Run chatGPT with the prompt and return the response'''\n",
    "    completion = openai.ChatCompletion.create(\n",
    "        model=\"gpt-3.5-turbo\",\n",
    "        messages=[\n",
    "            {\"role\": \"user\", \"content\": text_output}\n",
    "        ]\n",
    "    )\n",
    "\n",
    "    return completion.choices[0].message.content\n",
    "\n",
    "\n",
    "print(f\"\\n------------------------- Storyteller assistant started -----------------------------------\")\n",
    "# Record audio file with function improted from audio_record.py\n",
    "audio_rec(10)\n",
    "\n",
    "# Get transcript of audio file with whisper api\n",
    "print(f\"\\n... Transcribing audio file ...\")\n",
    "\n",
    "text_output = get_transcript_whisper()\n",
    "\n",
    "print(f\"\\n... Text recognized: {text_output}\")\n",
    "\n",
    "print(f\"\\n... Asking ChatGPT ...\")\n",
    "answer = run_chatGPT()\n",
    "\n",
    "print(f\"\\n... Answer from ChatGPT: {answer}\")\n",
    "\n",
    "print(f\"\\n... Synthesizing answer ...\")\n",
    "tts = pyttsx3.init()\n",
    "tts.setProperty('rate', 120)\n",
    "tts.say(answer)\n",
    "tts.runAndWait()\n",
    "\n",
    "print(f\"\\n... Listening to answer for 3 seconds ...\")\n",
    "audio_rec(3)\n",
    "\n",
    "text_output = get_transcript_whisper()\n",
    "print(f\"\\n... Text recognized: {text_output}\")\n",
    "\n",
    "if \"yes\" in text_output:\n",
    "\n",
    "print(f\"\\n------------------------- Storyteller assistant stopped -----------------------------------\")"
   ]
  },
  {
   "cell_type": "code",
   "execution_count": null,
   "outputs": [],
   "source": [],
   "metadata": {
    "collapsed": false
   }
  }
 ],
 "metadata": {
  "kernelspec": {
   "display_name": "Python 3",
   "language": "python",
   "name": "python3"
  },
  "language_info": {
   "codemirror_mode": {
    "name": "ipython",
    "version": 2
   },
   "file_extension": ".py",
   "mimetype": "text/x-python",
   "name": "python",
   "nbconvert_exporter": "python",
   "pygments_lexer": "ipython2",
   "version": "2.7.6"
  }
 },
 "nbformat": 4,
 "nbformat_minor": 0
}
