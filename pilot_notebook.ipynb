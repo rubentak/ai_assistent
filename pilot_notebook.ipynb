{
 "cells": [
  {
   "cell_type": "markdown",
   "source": [
    "## Libraries"
   ],
   "metadata": {
    "collapsed": false
   }
  },
  {
   "cell_type": "code",
   "execution_count": 1,
   "metadata": {
    "collapsed": true
   },
   "outputs": [],
   "source": [
    "import pandas as pd\n",
    "import numpy as np\n",
    "import folium as fl\n",
    "import wikipedia\n",
    "import pyttsx3\n",
    "import random\n",
    "import requests\n",
    "import credentials"
   ]
  },
  {
   "cell_type": "markdown",
   "source": [
    "## GPS Search"
   ],
   "metadata": {
    "collapsed": false
   }
  },
  {
   "cell_type": "code",
   "execution_count": 3,
   "outputs": [
    {
     "name": "stdout",
     "output_type": "stream",
     "text": [
      "          city   city_ascii      lat       lng      country iso2 iso3  \\\n",
      "0        Tokyo        Tokyo  35.6839  139.7744        Japan   JP  JPN   \n",
      "1      Jakarta      Jakarta  -6.2146  106.8451    Indonesia   ID  IDN   \n",
      "2        Delhi        Delhi  28.6667   77.2167        India   IN  IND   \n",
      "3       Manila       Manila  14.6000  120.9833  Philippines   PH  PHL   \n",
      "4    São Paulo    Sao Paulo -23.5504  -46.6339       Brazil   BR  BRA   \n",
      "5        Seoul        Seoul  37.5600  126.9900  South Korea   KR  KOR   \n",
      "6       Mumbai       Mumbai  19.0758   72.8775        India   IN  IND   \n",
      "7     Shanghai     Shanghai  31.1667  121.4667        China   CN  CHN   \n",
      "8  Mexico City  Mexico City  19.4333  -99.1333       Mexico   MX  MEX   \n",
      "9    Guangzhou    Guangzhou  23.1288  113.2590        China   CN  CHN   \n",
      "\n",
      "         admin_name  capital  population          id  \n",
      "0             Tōkyō  primary  39105000.0  1392685764  \n",
      "1           Jakarta  primary  35362000.0  1360771077  \n",
      "2             Delhi    admin  31870000.0  1356872604  \n",
      "3            Manila  primary  23971000.0  1608618140  \n",
      "4         São Paulo    admin  22495000.0  1076532519  \n",
      "5             Seoul  primary  22394000.0  1410836482  \n",
      "6       Mahārāshtra    admin  22186000.0  1356226629  \n",
      "7          Shanghai    admin  22118000.0  1156073548  \n",
      "8  Ciudad de México  primary  21505000.0  1484247881  \n",
      "9         Guangdong    admin  21489000.0  1156237133  \n"
     ]
    }
   ],
   "source": [
    "# Define GPS Coordinates of Barcelona\n",
    "# lat_input = 41.390205\n",
    "# log_input = 2.154007\n",
    "\n",
    "# Random values for lat and long\n",
    "lat_input = random.uniform(40, 45)\n",
    "log_input = random.uniform(0, 5)\n",
    "\n",
    "# Define the radius of the circle\n",
    "radius = 0.5\n",
    "\n",
    "# Load worldcities dataset zip 'https://simplemaps.com/data/world-cities'\n",
    "worldcities = pd.read_csv('worldcities.csv')\n",
    "\n",
    "print(worldcities.head(10))"
   ],
   "metadata": {
    "collapsed": false
   }
  },
  {
   "cell_type": "code",
   "execution_count": 4,
   "outputs": [
    {
     "name": "stdout",
     "output_type": "stream",
     "text": [
      "city           Calvisson\n",
      "city_ascii     Calvisson\n",
      "lat               43.785\n",
      "lng               4.1922\n",
      "country           France\n",
      "iso2                  FR\n",
      "iso3                 FRA\n",
      "admin_name     Occitanie\n",
      "capital              NaN\n",
      "population        5833.0\n",
      "id            1250194430\n",
      "distance        0.125156\n",
      "Name: 39040, dtype: object\n"
     ]
    }
   ],
   "source": [
    "# Calculate the distance between the input coordinates and the coordinates of the cities\n",
    "worldcities['distance'] = np.sqrt((worldcities['lat'] - lat_input) ** 2 + (worldcities['lng'] - log_input) ** 2)\n",
    "\n",
    "# Find the closest city\n",
    "closest_cities = worldcities.sort_values(by='distance').head(10)\n",
    "closest_city = worldcities.loc[worldcities['distance'].idxmin()]\n",
    "\n",
    "# Print the closest city\n",
    "print(closest_city)"
   ],
   "metadata": {
    "collapsed": false
   }
  },
  {
   "cell_type": "markdown",
   "source": [
    "## Knowledge Search"
   ],
   "metadata": {
    "collapsed": false
   }
  },
  {
   "cell_type": "code",
   "execution_count": 5,
   "outputs": [
    {
     "name": "stdout",
     "output_type": "stream",
     "text": [
      "Calvisson (French pronunciation: ​[kalvisɔ̃]; Provençal: Cauviçon) is a commune in the Gard department in the Occitanie region in southern France.\n",
      "It lies between Nîmes, Montpellier, the Cevennes and the Camargue and has a strong Protestant history.\n"
     ]
    }
   ],
   "source": [
    "try:\n",
    "    page = wikipedia.page(closest_city['city'], ',', closest_city['country'])\n",
    "    print(page.summary)\n",
    "except:\n",
    "    try:\n",
    "        page = wikipedia.page(closest_city['city'])\n",
    "        print(page.summary)\n",
    "    except:\n",
    "        print('No information found')"
   ],
   "metadata": {
    "collapsed": false
   }
  },
  {
   "cell_type": "markdown",
   "source": [
    "## Map data"
   ],
   "metadata": {
    "collapsed": false
   }
  },
  {
   "cell_type": "code",
   "execution_count": 6,
   "outputs": [
    {
     "data": {
      "text/plain": "<folium.folium.Map at 0x13f5a6df0>",
      "text/html": "<div style=\"width:100%;\"><div style=\"position:relative;width:100%;height:0;padding-bottom:60%;\"><span style=\"color:#565656\">Make this Notebook Trusted to load map: File -> Trust Notebook</span><iframe srcdoc=\"&lt;!DOCTYPE html&gt;\n&lt;html&gt;\n&lt;head&gt;\n    \n    &lt;meta http-equiv=&quot;content-type&quot; content=&quot;text/html; charset=UTF-8&quot; /&gt;\n    \n        &lt;script&gt;\n            L_NO_TOUCH = false;\n            L_DISABLE_3D = false;\n        &lt;/script&gt;\n    \n    &lt;style&gt;html, body {width: 100%;height: 100%;margin: 0;padding: 0;}&lt;/style&gt;\n    &lt;style&gt;#map {position:absolute;top:0;bottom:0;right:0;left:0;}&lt;/style&gt;\n    &lt;script src=&quot;https://cdn.jsdelivr.net/npm/leaflet@1.6.0/dist/leaflet.js&quot;&gt;&lt;/script&gt;\n    &lt;script src=&quot;https://code.jquery.com/jquery-1.12.4.min.js&quot;&gt;&lt;/script&gt;\n    &lt;script src=&quot;https://maxcdn.bootstrapcdn.com/bootstrap/3.2.0/js/bootstrap.min.js&quot;&gt;&lt;/script&gt;\n    &lt;script src=&quot;https://cdnjs.cloudflare.com/ajax/libs/Leaflet.awesome-markers/2.0.2/leaflet.awesome-markers.js&quot;&gt;&lt;/script&gt;\n    &lt;link rel=&quot;stylesheet&quot; href=&quot;https://cdn.jsdelivr.net/npm/leaflet@1.6.0/dist/leaflet.css&quot;/&gt;\n    &lt;link rel=&quot;stylesheet&quot; href=&quot;https://maxcdn.bootstrapcdn.com/bootstrap/3.2.0/css/bootstrap.min.css&quot;/&gt;\n    &lt;link rel=&quot;stylesheet&quot; href=&quot;https://maxcdn.bootstrapcdn.com/bootstrap/3.2.0/css/bootstrap-theme.min.css&quot;/&gt;\n    &lt;link rel=&quot;stylesheet&quot; href=&quot;https://maxcdn.bootstrapcdn.com/font-awesome/4.6.3/css/font-awesome.min.css&quot;/&gt;\n    &lt;link rel=&quot;stylesheet&quot; href=&quot;https://cdnjs.cloudflare.com/ajax/libs/Leaflet.awesome-markers/2.0.2/leaflet.awesome-markers.css&quot;/&gt;\n    &lt;link rel=&quot;stylesheet&quot; href=&quot;https://cdn.jsdelivr.net/gh/python-visualization/folium/folium/templates/leaflet.awesome.rotate.min.css&quot;/&gt;\n    \n            &lt;meta name=&quot;viewport&quot; content=&quot;width=device-width,\n                initial-scale=1.0, maximum-scale=1.0, user-scalable=no&quot; /&gt;\n            &lt;style&gt;\n                #map_7bc367296de8f4bb178604d7cc856107 {\n                    position: relative;\n                    width: 100.0%;\n                    height: 100.0%;\n                    left: 0.0%;\n                    top: 0.0%;\n                }\n            &lt;/style&gt;\n        \n&lt;/head&gt;\n&lt;body&gt;\n    \n    \n            &lt;div class=&quot;folium-map&quot; id=&quot;map_7bc367296de8f4bb178604d7cc856107&quot; &gt;&lt;/div&gt;\n        \n&lt;/body&gt;\n&lt;script&gt;\n    \n    \n            var map_7bc367296de8f4bb178604d7cc856107 = L.map(\n                &quot;map_7bc367296de8f4bb178604d7cc856107&quot;,\n                {\n                    center: [43.785, 4.1922],\n                    crs: L.CRS.EPSG3857,\n                    zoom: 10,\n                    zoomControl: true,\n                    preferCanvas: false,\n                }\n            );\n\n            \n\n        \n    \n            var tile_layer_d74801d3ac0f42abdc24f31f04c50cfb = L.tileLayer(\n                &quot;https://{s}.tile.openstreetmap.org/{z}/{x}/{y}.png&quot;,\n                {&quot;attribution&quot;: &quot;Data by \\u0026copy; \\u003ca href=\\&quot;http://openstreetmap.org\\&quot;\\u003eOpenStreetMap\\u003c/a\\u003e, under \\u003ca href=\\&quot;http://www.openstreetmap.org/copyright\\&quot;\\u003eODbL\\u003c/a\\u003e.&quot;, &quot;detectRetina&quot;: false, &quot;maxNativeZoom&quot;: 18, &quot;maxZoom&quot;: 18, &quot;minZoom&quot;: 0, &quot;noWrap&quot;: false, &quot;opacity&quot;: 1, &quot;subdomains&quot;: &quot;abc&quot;, &quot;tms&quot;: false}\n            ).addTo(map_7bc367296de8f4bb178604d7cc856107);\n        \n    \n            var marker_29ae43f16b15749599b7530720fe2ee8 = L.marker(\n                [43.785, 4.1922],\n                {}\n            ).addTo(map_7bc367296de8f4bb178604d7cc856107);\n        \n    \n            var icon_24c0074c1fa4d884fafab4f081b0c28b = L.AwesomeMarkers.icon(\n                {&quot;extraClasses&quot;: &quot;fa-rotate-0&quot;, &quot;icon&quot;: &quot;cross&quot;, &quot;iconColor&quot;: &quot;white&quot;, &quot;markerColor&quot;: &quot;blue&quot;, &quot;prefix&quot;: &quot;glyphicon&quot;}\n            );\n            marker_29ae43f16b15749599b7530720fe2ee8.setIcon(icon_24c0074c1fa4d884fafab4f081b0c28b);\n        \n    \n        var popup_5eddeb923669ea3a07a1b87a643b4744 = L.popup({&quot;maxWidth&quot;: &quot;100%&quot;});\n\n        \n            \n                var html_e3131de6d86925137bac544da9ac7114 = $(`&lt;div id=&quot;html_e3131de6d86925137bac544da9ac7114&quot; style=&quot;width: 100.0%; height: 100.0%;&quot;&gt;Calvisson&lt;/div&gt;`)[0];\n                popup_5eddeb923669ea3a07a1b87a643b4744.setContent(html_e3131de6d86925137bac544da9ac7114);\n            \n        \n\n        marker_29ae43f16b15749599b7530720fe2ee8.bindPopup(popup_5eddeb923669ea3a07a1b87a643b4744)\n        ;\n\n        \n    \n    \n            var marker_eceaf5979510fbbc82fbc7ac5c975ab5 = L.marker(\n                [43.906892327682826, 4.220593485928374],\n                {}\n            ).addTo(map_7bc367296de8f4bb178604d7cc856107);\n        \n    \n            var icon_c2910781cae20f424aa785c160ad4b2d = L.AwesomeMarkers.icon(\n                {&quot;extraClasses&quot;: &quot;fa-rotate-0&quot;, &quot;icon&quot;: &quot;cloud&quot;, &quot;iconColor&quot;: &quot;white&quot;, &quot;markerColor&quot;: &quot;red&quot;, &quot;prefix&quot;: &quot;glyphicon&quot;}\n            );\n            marker_eceaf5979510fbbc82fbc7ac5c975ab5.setIcon(icon_c2910781cae20f424aa785c160ad4b2d);\n        \n    \n        var popup_b41bd238b8f43e765cb891f56ab078f8 = L.popup({&quot;maxWidth&quot;: &quot;100%&quot;});\n\n        \n            \n                var html_b4fd1d0c7da79fc3d1b1b4fcdc30acd7 = $(`&lt;div id=&quot;html_b4fd1d0c7da79fc3d1b1b4fcdc30acd7&quot; style=&quot;width: 100.0%; height: 100.0%;&quot;&gt;You are here&lt;/div&gt;`)[0];\n                popup_b41bd238b8f43e765cb891f56ab078f8.setContent(html_b4fd1d0c7da79fc3d1b1b4fcdc30acd7);\n            \n        \n\n        marker_eceaf5979510fbbc82fbc7ac5c975ab5.bindPopup(popup_b41bd238b8f43e765cb891f56ab078f8)\n        ;\n\n        \n    \n&lt;/script&gt;\n&lt;/html&gt;\" style=\"position:absolute;width:100%;height:100%;left:0;top:0;border:none !important;\" allowfullscreen webkitallowfullscreen mozallowfullscreen></iframe></div></div>"
     },
     "execution_count": 6,
     "metadata": {},
     "output_type": "execute_result"
    }
   ],
   "source": [
    "# City Map with folium\n",
    "# https://python-visualization.github.io/folium/\n",
    "\n",
    "# Create a map of the city\n",
    "city_map = fl.Map(location=[closest_city['lat'], closest_city['lng']], zoom_start=10)\n",
    "\n",
    "# Add a marker to the map\n",
    "fl.Marker([closest_city['lat'], closest_city['lng']], popup=closest_city['city'], icon=fl.Icon(color='blue', icon='cross'),).add_to(city_map)\n",
    "fl.Marker([lat_input, log_input], popup='You are here', icon=fl.Icon(color='red', icon='cloud'),).add_to(city_map)\n",
    "\n",
    "# Display the map\n",
    "city_map\n",
    "#city_map.save('city_map.html')  # <- HTML file in directory"
   ],
   "metadata": {
    "collapsed": false
   }
  },
  {
   "cell_type": "markdown",
   "source": [
    "##  Synthesize Speech"
   ],
   "metadata": {
    "collapsed": false
   }
  },
  {
   "cell_type": "code",
   "execution_count": 7,
   "outputs": [
    {
     "data": {
      "text/plain": "'The closest city to your location is Calvisson in France,  Calvisson (French pronunciation: \\\\u200bkalvisɔ̃; Provençal: Cauviçon) is a commune in the Gard department in the Occitanie region in southern France, \\\\nIt lies between Nîmes, Montpellier, the Cevennes and the Camargue and has a strong Protestant history, '"
     },
     "execution_count": 7,
     "metadata": {},
     "output_type": "execute_result"
    }
   ],
   "source": [
    "# Create the story\n",
    "story = 'The closest city to your location is ' + closest_city['city'] + ' in ' + closest_city[\n",
    "    'country'] + '. ' + page.summary\n",
    "# Cut story after 4th sentence if possible and convert to string\n",
    "shortstory = str(story.split('.', 4)[0:4])\n",
    "# Concat story back together and remove brackets\n",
    "shortstory = shortstory.replace('[', '').replace(']', '').replace(\"'\", '')\n",
    "\n",
    "shortstory"
   ],
   "metadata": {
    "collapsed": false
   }
  },
  {
   "cell_type": "code",
   "execution_count": 8,
   "outputs": [],
   "source": [
    "# Synthesize story with pyttsx3\n",
    "tts = pyttsx3.init()\n",
    "# tts speed rate\n",
    "tts.setProperty('rate', 80)\n",
    "tts.say(shortstory)\n",
    "tts.runAndWait()\n",
    "\n",
    "# Sort city name by length\n",
    "city_name = closest_city['city']\n",
    "city_name = city_name.split()\n",
    "city_name = sorted(city_name, key=len)\n",
    "city_name = city_name[-1]"
   ],
   "metadata": {
    "collapsed": false
   }
  },
  {
   "cell_type": "code",
   "execution_count": 9,
   "outputs": [
    {
     "data": {
      "text/plain": "                                             geometry  \\\n0   {'location': {'lat': 41.3873974, 'lng': 2.1685...   \n1   {'location': {'lat': 41.3843884, 'lng': 2.1785...   \n2   {'location': {'lat': 41.3849706, 'lng': 2.1777...   \n3   {'location': {'lat': 41.37972699999999, 'lng':...   \n4   {'location': {'lat': 41.37991050000001, 'lng':...   \n5   {'location': {'lat': 41.3867134, 'lng': 2.1838...   \n6   {'location': {'lat': 41.38095999999999, 'lng':...   \n7   {'location': {'lat': 41.3878667, 'lng': 2.1733...   \n8   {'location': {'lat': 41.3825393, 'lng': 2.1789...   \n9   {'location': {'lat': 41.3831717, 'lng': 2.1753...   \n10  {'location': {'lat': 41.3827789, 'lng': 2.1847...   \n11  {'location': {'lat': 41.3852732, 'lng': 2.1826...   \n12  {'location': {'lat': 41.3837875, 'lng': 2.1783...   \n13  {'location': {'lat': 41.3815765, 'lng': 2.1742...   \n14  {'location': {'lat': 41.38072690000001, 'lng':...   \n15  {'location': {'lat': 41.3860321, 'lng': 2.1761...   \n16  {'location': {'lat': 41.38481199999999, 'lng':...   \n17  {'location': {'lat': 41.3798075, 'lng': 2.1804...   \n18  {'location': {'lat': 41.3869083, 'lng': 2.1821...   \n19  {'location': {'lat': 41.4100098, 'lng': 2.2029...   \n\n                                                 icon icon_background_color  \\\n0   https://maps.gstatic.com/mapfiles/place_api/ic...               #7B9EB0   \n1   https://maps.gstatic.com/mapfiles/place_api/ic...               #909CE1   \n2   https://maps.gstatic.com/mapfiles/place_api/ic...               #909CE1   \n3   https://maps.gstatic.com/mapfiles/place_api/ic...               #909CE1   \n4   https://maps.gstatic.com/mapfiles/place_api/ic...               #909CE1   \n5   https://maps.gstatic.com/mapfiles/place_api/ic...               #909CE1   \n6   https://maps.gstatic.com/mapfiles/place_api/ic...               #909CE1   \n7   https://maps.gstatic.com/mapfiles/place_api/ic...               #909CE1   \n8   https://maps.gstatic.com/mapfiles/place_api/ic...               #909CE1   \n9   https://maps.gstatic.com/mapfiles/place_api/ic...               #909CE1   \n10  https://maps.gstatic.com/mapfiles/place_api/ic...               #909CE1   \n11  https://maps.gstatic.com/mapfiles/place_api/ic...               #FF9E67   \n12  https://maps.gstatic.com/mapfiles/place_api/ic...               #909CE1   \n13  https://maps.gstatic.com/mapfiles/place_api/ic...               #909CE1   \n14  https://maps.gstatic.com/mapfiles/place_api/ic...               #909CE1   \n15  https://maps.gstatic.com/mapfiles/place_api/ic...               #909CE1   \n16  https://maps.gstatic.com/mapfiles/place_api/ic...               #909CE1   \n17  https://maps.gstatic.com/mapfiles/place_api/ic...               #909CE1   \n18  https://maps.gstatic.com/mapfiles/place_api/ic...               #FF9E67   \n19  https://maps.gstatic.com/mapfiles/place_api/ic...               #7B9EB0   \n\n                                   icon_mask_base_uri  \\\n0   https://maps.gstatic.com/mapfiles/place_api/ic...   \n1   https://maps.gstatic.com/mapfiles/place_api/ic...   \n2   https://maps.gstatic.com/mapfiles/place_api/ic...   \n3   https://maps.gstatic.com/mapfiles/place_api/ic...   \n4   https://maps.gstatic.com/mapfiles/place_api/ic...   \n5   https://maps.gstatic.com/mapfiles/place_api/ic...   \n6   https://maps.gstatic.com/mapfiles/place_api/ic...   \n7   https://maps.gstatic.com/mapfiles/place_api/ic...   \n8   https://maps.gstatic.com/mapfiles/place_api/ic...   \n9   https://maps.gstatic.com/mapfiles/place_api/ic...   \n10  https://maps.gstatic.com/mapfiles/place_api/ic...   \n11  https://maps.gstatic.com/mapfiles/place_api/ic...   \n12  https://maps.gstatic.com/mapfiles/place_api/ic...   \n13  https://maps.gstatic.com/mapfiles/place_api/ic...   \n14  https://maps.gstatic.com/mapfiles/place_api/ic...   \n15  https://maps.gstatic.com/mapfiles/place_api/ic...   \n16  https://maps.gstatic.com/mapfiles/place_api/ic...   \n17  https://maps.gstatic.com/mapfiles/place_api/ic...   \n18  https://maps.gstatic.com/mapfiles/place_api/ic...   \n19  https://maps.gstatic.com/mapfiles/place_api/ic...   \n\n                                                 name  \\\n0                                           Barcelona   \n1                                        H10 Montcada   \n2                                 Grand Hotel Central   \n3                      Oriente Atiram Hotel Barcelona   \n4                                        Hotel España   \n5                           K+K Hotel Picasso El Born   \n6             RAMBLAS HOTEL powered by Vincci Hoteles   \n7                                 Hotel HCC Montblanc   \n8                              Mercer Hotel Barcelona   \n9                       Hotel Neri Relais & Chateaux‎   \n10                                        Hotel Oasis   \n11                                           Da Nanni   \n12                                        Hotel Suizo   \n13                             Hotel Condal Barcelona   \n14                                   Hotel Flor Parks   \n15  Hotel ILUNION Almirante (Barrio Gótico, Barcel...   \n16                           Hotel Barcelona Catedral   \n17                 Hotel Duquesa de Cardona Barcelona   \n18                                 Restaurant El Foro   \n19                                         Sant Martí   \n\n                                               photos  \\\n0   [{'height': 3264, 'html_attributions': ['<a hr...   \n1   [{'height': 528, 'html_attributions': ['<a hre...   \n2   [{'height': 787, 'html_attributions': ['<a hre...   \n3   [{'height': 679, 'html_attributions': ['<a hre...   \n4   [{'height': 1541, 'html_attributions': ['<a hr...   \n5   [{'height': 2252, 'html_attributions': ['<a hr...   \n6   [{'height': 970, 'html_attributions': ['<a hre...   \n7   [{'height': 1780, 'html_attributions': ['<a hr...   \n8   [{'height': 5792, 'html_attributions': ['<a hr...   \n9   [{'height': 3648, 'html_attributions': ['<a hr...   \n10  [{'height': 2731, 'html_attributions': ['<a hr...   \n11  [{'height': 4624, 'html_attributions': ['<a hr...   \n12  [{'height': 3159, 'html_attributions': ['<a hr...   \n13  [{'height': 4134, 'html_attributions': ['<a hr...   \n14  [{'height': 3024, 'html_attributions': ['<a hr...   \n15  [{'height': 1080, 'html_attributions': ['<a hr...   \n16  [{'height': 1365, 'html_attributions': ['<a hr...   \n17  [{'height': 2126, 'html_attributions': ['<a hr...   \n18  [{'height': 1365, 'html_attributions': ['<a hr...   \n19  [{'height': 3120, 'html_attributions': ['<a hr...   \n\n                       place_id                    reference   scope  \\\n0   ChIJ5TCOcRaYpBIRCmZHTz37sEQ  ChIJ5TCOcRaYpBIRCmZHTz37sEQ  GOOGLE   \n1   ChIJjSlZP_mipBIR0_YxNCqjkTs  ChIJjSlZP_mipBIR0_YxNCqjkTs  GOOGLE   \n2   ChIJg1-2b_mipBIRirLgoXI-GXU  ChIJg1-2b_mipBIRirLgoXI-GXU  GOOGLE   \n3   ChIJofXmHliipBIR4iyHDfDXnJA  ChIJofXmHliipBIR4iyHDfDXnJA  GOOGLE   \n4   ChIJY6oYcliipBIRRvaQXvMe0KY  ChIJY6oYcliipBIRRvaQXvMe0KY  GOOGLE   \n5   ChIJc2TJ9P2ipBIRA65Mte-Mak8  ChIJc2TJ9P2ipBIRA65Mte-Mak8  GOOGLE   \n6   ChIJbSlW1PeipBIRe0EQZnJJWUc  ChIJbSlW1PeipBIRe0EQZnJJWUc  GOOGLE   \n7   ChIJHagl9fCipBIRdsXraeNfmvw  ChIJHagl9fCipBIRdsXraeNfmvw  GOOGLE   \n8   ChIJQ8ly2viipBIRZANMAFMePb8  ChIJQ8ly2viipBIRZANMAFMePb8  GOOGLE   \n9   ChIJWU9gM_iipBIRBo0JgzCmYjI  ChIJWU9gM_iipBIRBo0JgzCmYjI  GOOGLE   \n10  ChIJu-j3KwCjpBIRGyMRxhc9jjo  ChIJu-j3KwCjpBIRGyMRxhc9jjo  GOOGLE   \n11  ChIJk_S0dv6ipBIRTseTfN_uc1g  ChIJk_S0dv6ipBIRTseTfN_uc1g  GOOGLE   \n12  ChIJn4lKN_mipBIRc8qgol7RIro  ChIJn4lKN_mipBIRc8qgol7RIro  GOOGLE   \n13  ChIJzwWNcViipBIRZRlzhhFPQvw  ChIJzwWNcViipBIRZRlzhhFPQvw  GOOGLE   \n14  ChIJ28keCFiipBIRAoeXr7g6iVs  ChIJ28keCFiipBIRAoeXr7g6iVs  GOOGLE   \n15  ChIJLeQ8JPqipBIRkCQvTVKBJb0  ChIJLeQ8JPqipBIRkCQvTVKBJb0  GOOGLE   \n16  ChIJmRxO7_mipBIRdCiunF_6N_U  ChIJmRxO7_mipBIRdCiunF_6N_U  GOOGLE   \n17  ChIJsQcVk1WipBIR5bqvII0Gqqg  ChIJsQcVk1WipBIR5bqvII0Gqqg  GOOGLE   \n18  ChIJawSgt_2ipBIR6dBzsSq7yUE  ChIJawSgt_2ipBIR6dBzsSq7yUE  GOOGLE   \n19  ChIJ06_4HDmjpBIRomlqqIDieDc  ChIJ06_4HDmjpBIRomlqqIDieDc  GOOGLE   \n\n                                                types  \\\n0                               [locality, political]   \n1         [lodging, point_of_interest, establishment]   \n2   [bar, spa, lodging, restaurant, point_of_inter...   \n3         [lodging, point_of_interest, establishment]   \n4         [lodging, point_of_interest, establishment]   \n5         [lodging, point_of_interest, establishment]   \n6         [lodging, point_of_interest, establishment]   \n7         [lodging, point_of_interest, establishment]   \n8         [lodging, point_of_interest, establishment]   \n9         [lodging, point_of_interest, establishment]   \n10        [lodging, point_of_interest, establishment]   \n11  [restaurant, point_of_interest, food, establis...   \n12        [lodging, point_of_interest, establishment]   \n13        [lodging, point_of_interest, establishment]   \n14        [lodging, point_of_interest, establishment]   \n15        [lodging, point_of_interest, establishment]   \n16  [lodging, restaurant, point_of_interest, food,...   \n17        [lodging, point_of_interest, establishment]   \n18  [meal_takeaway, bar, restaurant, point_of_inte...   \n19      [sublocality_level_1, sublocality, political]   \n\n                                 vicinity business_status       opening_hours  \\\n0                               Barcelona             NaN                 NaN   \n1             Via Laietana, 24, Barcelona     OPERATIONAL  {'open_now': True}   \n2             Via Laietana, 30, Barcelona     OPERATIONAL  {'open_now': True}   \n3    Rambla dels Caputxins, 45, Barcelona     OPERATIONAL  {'open_now': True}   \n4     Carrer de Sant Pau, 9-11, Barcelona     OPERATIONAL                 NaN   \n5   Passeig de Picasso, 26, 30, Barcelona     OPERATIONAL  {'open_now': True}   \n6     Carrer de l'Hospital, 26, Barcelona     OPERATIONAL  {'open_now': True}   \n7             Via Laietana, 61, Barcelona     OPERATIONAL  {'open_now': True}   \n8         Carrer dels Lledó, 7, Barcelona     OPERATIONAL                 NaN   \n9      Carrer de Sant Sever, 5, Barcelona     OPERATIONAL  {'open_now': True}   \n10            Pla de Palau, 17, Barcelona     OPERATIONAL  {'open_now': True}   \n11          Carrer del Rec, 30, Barcelona     OPERATIONAL  {'open_now': True}   \n12        plaça de l'Àngel, 12, Barcelona     OPERATIONAL  {'open_now': True}   \n13   Carrer de la Boqueria, 23, Barcelona     OPERATIONAL  {'open_now': True}   \n14               La Rambla, 70, Barcelona     OPERATIONAL  {'open_now': True}   \n15     Calle, Via Laietana, 42, Barcelona     OPERATIONAL  {'open_now': True}   \n16    Carrer dels Capellans, 4, Barcelona     OPERATIONAL  {'open_now': True}   \n17        Passeig de Colom, 12, Barcelona     OPERATIONAL  {'open_now': True}   \n18   Carrer de la Princesa, 53, Barcelona     OPERATIONAL  {'open_now': True}   \n19                             Sant Martí             NaN                 NaN   \n\n                                            plus_code  rating  \\\n0                                                 NaN     NaN   \n1   {'compound_code': '95MH+QC Barcelona, Spain', ...     4.5   \n2   {'compound_code': '95MH+X4 Barcelona, Spain', ...     4.5   \n3   {'compound_code': '95HF+VM Barcelona, Spain', ...     4.0   \n4   {'compound_code': '95HF+X4 Barcelona, Spain', ...     4.4   \n5   {'compound_code': '95PM+MG Barcelona, Spain', ...     4.4   \n6   {'compound_code': '95JC+9R Barcelona, Spain', ...     4.3   \n7   {'compound_code': '95QF+48 Barcelona, Spain', ...     4.3   \n8   {'compound_code': '95MH+2H Barcelona, Spain', ...     4.6   \n9   {'compound_code': '95MG+75 Barcelona, Spain', ...     4.4   \n10  {'compound_code': '95MM+4W Barcelona, Spain', ...     4.1   \n11  {'compound_code': '95PM+43 Barcelona, Spain', ...     3.8   \n12  {'compound_code': '95MH+G8 Barcelona, Spain', ...     4.2   \n13  {'compound_code': '95JF+JP Barcelona, Spain', ...     3.9   \n14  {'compound_code': '95JF+7H Barcelona, Spain', ...     4.3   \n15  {'compound_code': '95PG+CF Barcelona, Spain', ...     3.6   \n16  {'compound_code': '95MG+W2 Barcelona, Spain', ...     4.3   \n17  {'compound_code': '95HJ+W5 Barcelona, Spain', ...     4.5   \n18  {'compound_code': '95PJ+QV Barcelona, Spain', ...     4.2   \n19                                                NaN     NaN   \n\n    user_ratings_total  price_level  \n0                  NaN          NaN  \n1                804.0          NaN  \n2               1116.0          NaN  \n3               1604.0          NaN  \n4                886.0          NaN  \n5               1029.0          NaN  \n6                546.0          NaN  \n7               2145.0          NaN  \n8                313.0          NaN  \n9                471.0          NaN  \n10              1072.0          NaN  \n11              1647.0          2.0  \n12               902.0          NaN  \n13               595.0          NaN  \n14               435.0          NaN  \n15               969.0          NaN  \n16               839.0          NaN  \n17              1466.0          NaN  \n18              2278.0          2.0  \n19                 NaN          NaN  ",
      "text/html": "<div>\n<style scoped>\n    .dataframe tbody tr th:only-of-type {\n        vertical-align: middle;\n    }\n\n    .dataframe tbody tr th {\n        vertical-align: top;\n    }\n\n    .dataframe thead th {\n        text-align: right;\n    }\n</style>\n<table border=\"1\" class=\"dataframe\">\n  <thead>\n    <tr style=\"text-align: right;\">\n      <th></th>\n      <th>geometry</th>\n      <th>icon</th>\n      <th>icon_background_color</th>\n      <th>icon_mask_base_uri</th>\n      <th>name</th>\n      <th>photos</th>\n      <th>place_id</th>\n      <th>reference</th>\n      <th>scope</th>\n      <th>types</th>\n      <th>vicinity</th>\n      <th>business_status</th>\n      <th>opening_hours</th>\n      <th>plus_code</th>\n      <th>rating</th>\n      <th>user_ratings_total</th>\n      <th>price_level</th>\n    </tr>\n  </thead>\n  <tbody>\n    <tr>\n      <th>0</th>\n      <td>{'location': {'lat': 41.3873974, 'lng': 2.1685...</td>\n      <td>https://maps.gstatic.com/mapfiles/place_api/ic...</td>\n      <td>#7B9EB0</td>\n      <td>https://maps.gstatic.com/mapfiles/place_api/ic...</td>\n      <td>Barcelona</td>\n      <td>[{'height': 3264, 'html_attributions': ['&lt;a hr...</td>\n      <td>ChIJ5TCOcRaYpBIRCmZHTz37sEQ</td>\n      <td>ChIJ5TCOcRaYpBIRCmZHTz37sEQ</td>\n      <td>GOOGLE</td>\n      <td>[locality, political]</td>\n      <td>Barcelona</td>\n      <td>NaN</td>\n      <td>NaN</td>\n      <td>NaN</td>\n      <td>NaN</td>\n      <td>NaN</td>\n      <td>NaN</td>\n    </tr>\n    <tr>\n      <th>1</th>\n      <td>{'location': {'lat': 41.3843884, 'lng': 2.1785...</td>\n      <td>https://maps.gstatic.com/mapfiles/place_api/ic...</td>\n      <td>#909CE1</td>\n      <td>https://maps.gstatic.com/mapfiles/place_api/ic...</td>\n      <td>H10 Montcada</td>\n      <td>[{'height': 528, 'html_attributions': ['&lt;a hre...</td>\n      <td>ChIJjSlZP_mipBIR0_YxNCqjkTs</td>\n      <td>ChIJjSlZP_mipBIR0_YxNCqjkTs</td>\n      <td>GOOGLE</td>\n      <td>[lodging, point_of_interest, establishment]</td>\n      <td>Via Laietana, 24, Barcelona</td>\n      <td>OPERATIONAL</td>\n      <td>{'open_now': True}</td>\n      <td>{'compound_code': '95MH+QC Barcelona, Spain', ...</td>\n      <td>4.5</td>\n      <td>804.0</td>\n      <td>NaN</td>\n    </tr>\n    <tr>\n      <th>2</th>\n      <td>{'location': {'lat': 41.3849706, 'lng': 2.1777...</td>\n      <td>https://maps.gstatic.com/mapfiles/place_api/ic...</td>\n      <td>#909CE1</td>\n      <td>https://maps.gstatic.com/mapfiles/place_api/ic...</td>\n      <td>Grand Hotel Central</td>\n      <td>[{'height': 787, 'html_attributions': ['&lt;a hre...</td>\n      <td>ChIJg1-2b_mipBIRirLgoXI-GXU</td>\n      <td>ChIJg1-2b_mipBIRirLgoXI-GXU</td>\n      <td>GOOGLE</td>\n      <td>[bar, spa, lodging, restaurant, point_of_inter...</td>\n      <td>Via Laietana, 30, Barcelona</td>\n      <td>OPERATIONAL</td>\n      <td>{'open_now': True}</td>\n      <td>{'compound_code': '95MH+X4 Barcelona, Spain', ...</td>\n      <td>4.5</td>\n      <td>1116.0</td>\n      <td>NaN</td>\n    </tr>\n    <tr>\n      <th>3</th>\n      <td>{'location': {'lat': 41.37972699999999, 'lng':...</td>\n      <td>https://maps.gstatic.com/mapfiles/place_api/ic...</td>\n      <td>#909CE1</td>\n      <td>https://maps.gstatic.com/mapfiles/place_api/ic...</td>\n      <td>Oriente Atiram Hotel Barcelona</td>\n      <td>[{'height': 679, 'html_attributions': ['&lt;a hre...</td>\n      <td>ChIJofXmHliipBIR4iyHDfDXnJA</td>\n      <td>ChIJofXmHliipBIR4iyHDfDXnJA</td>\n      <td>GOOGLE</td>\n      <td>[lodging, point_of_interest, establishment]</td>\n      <td>Rambla dels Caputxins, 45, Barcelona</td>\n      <td>OPERATIONAL</td>\n      <td>{'open_now': True}</td>\n      <td>{'compound_code': '95HF+VM Barcelona, Spain', ...</td>\n      <td>4.0</td>\n      <td>1604.0</td>\n      <td>NaN</td>\n    </tr>\n    <tr>\n      <th>4</th>\n      <td>{'location': {'lat': 41.37991050000001, 'lng':...</td>\n      <td>https://maps.gstatic.com/mapfiles/place_api/ic...</td>\n      <td>#909CE1</td>\n      <td>https://maps.gstatic.com/mapfiles/place_api/ic...</td>\n      <td>Hotel España</td>\n      <td>[{'height': 1541, 'html_attributions': ['&lt;a hr...</td>\n      <td>ChIJY6oYcliipBIRRvaQXvMe0KY</td>\n      <td>ChIJY6oYcliipBIRRvaQXvMe0KY</td>\n      <td>GOOGLE</td>\n      <td>[lodging, point_of_interest, establishment]</td>\n      <td>Carrer de Sant Pau, 9-11, Barcelona</td>\n      <td>OPERATIONAL</td>\n      <td>NaN</td>\n      <td>{'compound_code': '95HF+X4 Barcelona, Spain', ...</td>\n      <td>4.4</td>\n      <td>886.0</td>\n      <td>NaN</td>\n    </tr>\n    <tr>\n      <th>5</th>\n      <td>{'location': {'lat': 41.3867134, 'lng': 2.1838...</td>\n      <td>https://maps.gstatic.com/mapfiles/place_api/ic...</td>\n      <td>#909CE1</td>\n      <td>https://maps.gstatic.com/mapfiles/place_api/ic...</td>\n      <td>K+K Hotel Picasso El Born</td>\n      <td>[{'height': 2252, 'html_attributions': ['&lt;a hr...</td>\n      <td>ChIJc2TJ9P2ipBIRA65Mte-Mak8</td>\n      <td>ChIJc2TJ9P2ipBIRA65Mte-Mak8</td>\n      <td>GOOGLE</td>\n      <td>[lodging, point_of_interest, establishment]</td>\n      <td>Passeig de Picasso, 26, 30, Barcelona</td>\n      <td>OPERATIONAL</td>\n      <td>{'open_now': True}</td>\n      <td>{'compound_code': '95PM+MG Barcelona, Spain', ...</td>\n      <td>4.4</td>\n      <td>1029.0</td>\n      <td>NaN</td>\n    </tr>\n    <tr>\n      <th>6</th>\n      <td>{'location': {'lat': 41.38095999999999, 'lng':...</td>\n      <td>https://maps.gstatic.com/mapfiles/place_api/ic...</td>\n      <td>#909CE1</td>\n      <td>https://maps.gstatic.com/mapfiles/place_api/ic...</td>\n      <td>RAMBLAS HOTEL powered by Vincci Hoteles</td>\n      <td>[{'height': 970, 'html_attributions': ['&lt;a hre...</td>\n      <td>ChIJbSlW1PeipBIRe0EQZnJJWUc</td>\n      <td>ChIJbSlW1PeipBIRe0EQZnJJWUc</td>\n      <td>GOOGLE</td>\n      <td>[lodging, point_of_interest, establishment]</td>\n      <td>Carrer de l'Hospital, 26, Barcelona</td>\n      <td>OPERATIONAL</td>\n      <td>{'open_now': True}</td>\n      <td>{'compound_code': '95JC+9R Barcelona, Spain', ...</td>\n      <td>4.3</td>\n      <td>546.0</td>\n      <td>NaN</td>\n    </tr>\n    <tr>\n      <th>7</th>\n      <td>{'location': {'lat': 41.3878667, 'lng': 2.1733...</td>\n      <td>https://maps.gstatic.com/mapfiles/place_api/ic...</td>\n      <td>#909CE1</td>\n      <td>https://maps.gstatic.com/mapfiles/place_api/ic...</td>\n      <td>Hotel HCC Montblanc</td>\n      <td>[{'height': 1780, 'html_attributions': ['&lt;a hr...</td>\n      <td>ChIJHagl9fCipBIRdsXraeNfmvw</td>\n      <td>ChIJHagl9fCipBIRdsXraeNfmvw</td>\n      <td>GOOGLE</td>\n      <td>[lodging, point_of_interest, establishment]</td>\n      <td>Via Laietana, 61, Barcelona</td>\n      <td>OPERATIONAL</td>\n      <td>{'open_now': True}</td>\n      <td>{'compound_code': '95QF+48 Barcelona, Spain', ...</td>\n      <td>4.3</td>\n      <td>2145.0</td>\n      <td>NaN</td>\n    </tr>\n    <tr>\n      <th>8</th>\n      <td>{'location': {'lat': 41.3825393, 'lng': 2.1789...</td>\n      <td>https://maps.gstatic.com/mapfiles/place_api/ic...</td>\n      <td>#909CE1</td>\n      <td>https://maps.gstatic.com/mapfiles/place_api/ic...</td>\n      <td>Mercer Hotel Barcelona</td>\n      <td>[{'height': 5792, 'html_attributions': ['&lt;a hr...</td>\n      <td>ChIJQ8ly2viipBIRZANMAFMePb8</td>\n      <td>ChIJQ8ly2viipBIRZANMAFMePb8</td>\n      <td>GOOGLE</td>\n      <td>[lodging, point_of_interest, establishment]</td>\n      <td>Carrer dels Lledó, 7, Barcelona</td>\n      <td>OPERATIONAL</td>\n      <td>NaN</td>\n      <td>{'compound_code': '95MH+2H Barcelona, Spain', ...</td>\n      <td>4.6</td>\n      <td>313.0</td>\n      <td>NaN</td>\n    </tr>\n    <tr>\n      <th>9</th>\n      <td>{'location': {'lat': 41.3831717, 'lng': 2.1753...</td>\n      <td>https://maps.gstatic.com/mapfiles/place_api/ic...</td>\n      <td>#909CE1</td>\n      <td>https://maps.gstatic.com/mapfiles/place_api/ic...</td>\n      <td>Hotel Neri Relais &amp; Chateaux‎</td>\n      <td>[{'height': 3648, 'html_attributions': ['&lt;a hr...</td>\n      <td>ChIJWU9gM_iipBIRBo0JgzCmYjI</td>\n      <td>ChIJWU9gM_iipBIRBo0JgzCmYjI</td>\n      <td>GOOGLE</td>\n      <td>[lodging, point_of_interest, establishment]</td>\n      <td>Carrer de Sant Sever, 5, Barcelona</td>\n      <td>OPERATIONAL</td>\n      <td>{'open_now': True}</td>\n      <td>{'compound_code': '95MG+75 Barcelona, Spain', ...</td>\n      <td>4.4</td>\n      <td>471.0</td>\n      <td>NaN</td>\n    </tr>\n    <tr>\n      <th>10</th>\n      <td>{'location': {'lat': 41.3827789, 'lng': 2.1847...</td>\n      <td>https://maps.gstatic.com/mapfiles/place_api/ic...</td>\n      <td>#909CE1</td>\n      <td>https://maps.gstatic.com/mapfiles/place_api/ic...</td>\n      <td>Hotel Oasis</td>\n      <td>[{'height': 2731, 'html_attributions': ['&lt;a hr...</td>\n      <td>ChIJu-j3KwCjpBIRGyMRxhc9jjo</td>\n      <td>ChIJu-j3KwCjpBIRGyMRxhc9jjo</td>\n      <td>GOOGLE</td>\n      <td>[lodging, point_of_interest, establishment]</td>\n      <td>Pla de Palau, 17, Barcelona</td>\n      <td>OPERATIONAL</td>\n      <td>{'open_now': True}</td>\n      <td>{'compound_code': '95MM+4W Barcelona, Spain', ...</td>\n      <td>4.1</td>\n      <td>1072.0</td>\n      <td>NaN</td>\n    </tr>\n    <tr>\n      <th>11</th>\n      <td>{'location': {'lat': 41.3852732, 'lng': 2.1826...</td>\n      <td>https://maps.gstatic.com/mapfiles/place_api/ic...</td>\n      <td>#FF9E67</td>\n      <td>https://maps.gstatic.com/mapfiles/place_api/ic...</td>\n      <td>Da Nanni</td>\n      <td>[{'height': 4624, 'html_attributions': ['&lt;a hr...</td>\n      <td>ChIJk_S0dv6ipBIRTseTfN_uc1g</td>\n      <td>ChIJk_S0dv6ipBIRTseTfN_uc1g</td>\n      <td>GOOGLE</td>\n      <td>[restaurant, point_of_interest, food, establis...</td>\n      <td>Carrer del Rec, 30, Barcelona</td>\n      <td>OPERATIONAL</td>\n      <td>{'open_now': True}</td>\n      <td>{'compound_code': '95PM+43 Barcelona, Spain', ...</td>\n      <td>3.8</td>\n      <td>1647.0</td>\n      <td>2.0</td>\n    </tr>\n    <tr>\n      <th>12</th>\n      <td>{'location': {'lat': 41.3837875, 'lng': 2.1783...</td>\n      <td>https://maps.gstatic.com/mapfiles/place_api/ic...</td>\n      <td>#909CE1</td>\n      <td>https://maps.gstatic.com/mapfiles/place_api/ic...</td>\n      <td>Hotel Suizo</td>\n      <td>[{'height': 3159, 'html_attributions': ['&lt;a hr...</td>\n      <td>ChIJn4lKN_mipBIRc8qgol7RIro</td>\n      <td>ChIJn4lKN_mipBIRc8qgol7RIro</td>\n      <td>GOOGLE</td>\n      <td>[lodging, point_of_interest, establishment]</td>\n      <td>plaça de l'Àngel, 12, Barcelona</td>\n      <td>OPERATIONAL</td>\n      <td>{'open_now': True}</td>\n      <td>{'compound_code': '95MH+G8 Barcelona, Spain', ...</td>\n      <td>4.2</td>\n      <td>902.0</td>\n      <td>NaN</td>\n    </tr>\n    <tr>\n      <th>13</th>\n      <td>{'location': {'lat': 41.3815765, 'lng': 2.1742...</td>\n      <td>https://maps.gstatic.com/mapfiles/place_api/ic...</td>\n      <td>#909CE1</td>\n      <td>https://maps.gstatic.com/mapfiles/place_api/ic...</td>\n      <td>Hotel Condal Barcelona</td>\n      <td>[{'height': 4134, 'html_attributions': ['&lt;a hr...</td>\n      <td>ChIJzwWNcViipBIRZRlzhhFPQvw</td>\n      <td>ChIJzwWNcViipBIRZRlzhhFPQvw</td>\n      <td>GOOGLE</td>\n      <td>[lodging, point_of_interest, establishment]</td>\n      <td>Carrer de la Boqueria, 23, Barcelona</td>\n      <td>OPERATIONAL</td>\n      <td>{'open_now': True}</td>\n      <td>{'compound_code': '95JF+JP Barcelona, Spain', ...</td>\n      <td>3.9</td>\n      <td>595.0</td>\n      <td>NaN</td>\n    </tr>\n    <tr>\n      <th>14</th>\n      <td>{'location': {'lat': 41.38072690000001, 'lng':...</td>\n      <td>https://maps.gstatic.com/mapfiles/place_api/ic...</td>\n      <td>#909CE1</td>\n      <td>https://maps.gstatic.com/mapfiles/place_api/ic...</td>\n      <td>Hotel Flor Parks</td>\n      <td>[{'height': 3024, 'html_attributions': ['&lt;a hr...</td>\n      <td>ChIJ28keCFiipBIRAoeXr7g6iVs</td>\n      <td>ChIJ28keCFiipBIRAoeXr7g6iVs</td>\n      <td>GOOGLE</td>\n      <td>[lodging, point_of_interest, establishment]</td>\n      <td>La Rambla, 70, Barcelona</td>\n      <td>OPERATIONAL</td>\n      <td>{'open_now': True}</td>\n      <td>{'compound_code': '95JF+7H Barcelona, Spain', ...</td>\n      <td>4.3</td>\n      <td>435.0</td>\n      <td>NaN</td>\n    </tr>\n    <tr>\n      <th>15</th>\n      <td>{'location': {'lat': 41.3860321, 'lng': 2.1761...</td>\n      <td>https://maps.gstatic.com/mapfiles/place_api/ic...</td>\n      <td>#909CE1</td>\n      <td>https://maps.gstatic.com/mapfiles/place_api/ic...</td>\n      <td>Hotel ILUNION Almirante (Barrio Gótico, Barcel...</td>\n      <td>[{'height': 1080, 'html_attributions': ['&lt;a hr...</td>\n      <td>ChIJLeQ8JPqipBIRkCQvTVKBJb0</td>\n      <td>ChIJLeQ8JPqipBIRkCQvTVKBJb0</td>\n      <td>GOOGLE</td>\n      <td>[lodging, point_of_interest, establishment]</td>\n      <td>Calle, Via Laietana, 42, Barcelona</td>\n      <td>OPERATIONAL</td>\n      <td>{'open_now': True}</td>\n      <td>{'compound_code': '95PG+CF Barcelona, Spain', ...</td>\n      <td>3.6</td>\n      <td>969.0</td>\n      <td>NaN</td>\n    </tr>\n    <tr>\n      <th>16</th>\n      <td>{'location': {'lat': 41.38481199999999, 'lng':...</td>\n      <td>https://maps.gstatic.com/mapfiles/place_api/ic...</td>\n      <td>#909CE1</td>\n      <td>https://maps.gstatic.com/mapfiles/place_api/ic...</td>\n      <td>Hotel Barcelona Catedral</td>\n      <td>[{'height': 1365, 'html_attributions': ['&lt;a hr...</td>\n      <td>ChIJmRxO7_mipBIRdCiunF_6N_U</td>\n      <td>ChIJmRxO7_mipBIRdCiunF_6N_U</td>\n      <td>GOOGLE</td>\n      <td>[lodging, restaurant, point_of_interest, food,...</td>\n      <td>Carrer dels Capellans, 4, Barcelona</td>\n      <td>OPERATIONAL</td>\n      <td>{'open_now': True}</td>\n      <td>{'compound_code': '95MG+W2 Barcelona, Spain', ...</td>\n      <td>4.3</td>\n      <td>839.0</td>\n      <td>NaN</td>\n    </tr>\n    <tr>\n      <th>17</th>\n      <td>{'location': {'lat': 41.3798075, 'lng': 2.1804...</td>\n      <td>https://maps.gstatic.com/mapfiles/place_api/ic...</td>\n      <td>#909CE1</td>\n      <td>https://maps.gstatic.com/mapfiles/place_api/ic...</td>\n      <td>Hotel Duquesa de Cardona Barcelona</td>\n      <td>[{'height': 2126, 'html_attributions': ['&lt;a hr...</td>\n      <td>ChIJsQcVk1WipBIR5bqvII0Gqqg</td>\n      <td>ChIJsQcVk1WipBIR5bqvII0Gqqg</td>\n      <td>GOOGLE</td>\n      <td>[lodging, point_of_interest, establishment]</td>\n      <td>Passeig de Colom, 12, Barcelona</td>\n      <td>OPERATIONAL</td>\n      <td>{'open_now': True}</td>\n      <td>{'compound_code': '95HJ+W5 Barcelona, Spain', ...</td>\n      <td>4.5</td>\n      <td>1466.0</td>\n      <td>NaN</td>\n    </tr>\n    <tr>\n      <th>18</th>\n      <td>{'location': {'lat': 41.3869083, 'lng': 2.1821...</td>\n      <td>https://maps.gstatic.com/mapfiles/place_api/ic...</td>\n      <td>#FF9E67</td>\n      <td>https://maps.gstatic.com/mapfiles/place_api/ic...</td>\n      <td>Restaurant El Foro</td>\n      <td>[{'height': 1365, 'html_attributions': ['&lt;a hr...</td>\n      <td>ChIJawSgt_2ipBIR6dBzsSq7yUE</td>\n      <td>ChIJawSgt_2ipBIR6dBzsSq7yUE</td>\n      <td>GOOGLE</td>\n      <td>[meal_takeaway, bar, restaurant, point_of_inte...</td>\n      <td>Carrer de la Princesa, 53, Barcelona</td>\n      <td>OPERATIONAL</td>\n      <td>{'open_now': True}</td>\n      <td>{'compound_code': '95PJ+QV Barcelona, Spain', ...</td>\n      <td>4.2</td>\n      <td>2278.0</td>\n      <td>2.0</td>\n    </tr>\n    <tr>\n      <th>19</th>\n      <td>{'location': {'lat': 41.4100098, 'lng': 2.2029...</td>\n      <td>https://maps.gstatic.com/mapfiles/place_api/ic...</td>\n      <td>#7B9EB0</td>\n      <td>https://maps.gstatic.com/mapfiles/place_api/ic...</td>\n      <td>Sant Martí</td>\n      <td>[{'height': 3120, 'html_attributions': ['&lt;a hr...</td>\n      <td>ChIJ06_4HDmjpBIRomlqqIDieDc</td>\n      <td>ChIJ06_4HDmjpBIRomlqqIDieDc</td>\n      <td>GOOGLE</td>\n      <td>[sublocality_level_1, sublocality, political]</td>\n      <td>Sant Martí</td>\n      <td>NaN</td>\n      <td>NaN</td>\n      <td>NaN</td>\n      <td>NaN</td>\n      <td>NaN</td>\n      <td>NaN</td>\n    </tr>\n  </tbody>\n</table>\n</div>"
     },
     "execution_count": 9,
     "metadata": {},
     "output_type": "execute_result"
    }
   ],
   "source": [
    "# Get surroundings by google maps api\n",
    "api_key = credentials.google_api_key\n",
    "\n",
    "lat = 41.382818\n",
    "lng =  2.182477\n",
    "radius = 1000               # -33.8670522,151.1957362&radius=500&\n",
    "types = 'All'\n",
    "search_name = ''\n",
    "\n",
    "# Google Maps directions API endpoint\n",
    "prompt = f'https://maps.googleapis.com/maps/api/place/nearbysearch/json?location={lat},{lng}&radius={radius}&types={types}&name={search_name}&key={api_key}'\n",
    "# Send request and get response\n",
    "response = requests.get(prompt)\n",
    "# Get response data as Python object\n",
    "data = response.json()\n",
    "results = data['results']\n",
    "# Parse the results to a dataframe\n",
    "df = pd.DataFrame.from_dict(results)\n",
    "df"
   ],
   "metadata": {
    "collapsed": false
   }
  },
  {
   "cell_type": "code",
   "execution_count": 10,
   "outputs": [
    {
     "name": "stderr",
     "output_type": "stream",
     "text": [
      "/var/folders/sl/c5pyww8j61j6_9_z4twp2ygc0000gn/T/ipykernel_32121/2554590475.py:4: SettingWithCopyWarning: \n",
      "A value is trying to be set on a copy of a slice from a DataFrame.\n",
      "Try using .loc[row_indexer,col_indexer] = value instead\n",
      "\n",
      "See the caveats in the documentation: https://pandas.pydata.org/pandas-docs/stable/user_guide/indexing.html#returning-a-view-versus-a-copy\n",
      "  df['lat'] = df['geometry'].apply(lambda x: x['location']['lat'])\n",
      "/var/folders/sl/c5pyww8j61j6_9_z4twp2ygc0000gn/T/ipykernel_32121/2554590475.py:5: SettingWithCopyWarning: \n",
      "A value is trying to be set on a copy of a slice from a DataFrame.\n",
      "Try using .loc[row_indexer,col_indexer] = value instead\n",
      "\n",
      "See the caveats in the documentation: https://pandas.pydata.org/pandas-docs/stable/user_guide/indexing.html#returning-a-view-versus-a-copy\n",
      "  df['lng'] = df['geometry'].apply(lambda x: x['location']['lng'])\n"
     ]
    },
    {
     "data": {
      "text/plain": "                                                 name  \\\n0                                           Barcelona   \n1                                        H10 Montcada   \n2                                 Grand Hotel Central   \n3                      Oriente Atiram Hotel Barcelona   \n4                                        Hotel España   \n5                           K+K Hotel Picasso El Born   \n6             RAMBLAS HOTEL powered by Vincci Hoteles   \n7                                 Hotel HCC Montblanc   \n8                              Mercer Hotel Barcelona   \n9                       Hotel Neri Relais & Chateaux‎   \n10                                        Hotel Oasis   \n11                                           Da Nanni   \n12                                        Hotel Suizo   \n13                             Hotel Condal Barcelona   \n14                                   Hotel Flor Parks   \n15  Hotel ILUNION Almirante (Barrio Gótico, Barcel...   \n16                           Hotel Barcelona Catedral   \n17                 Hotel Duquesa de Cardona Barcelona   \n18                                 Restaurant El Foro   \n19                                         Sant Martí   \n\n                       place_id  \\\n0   ChIJ5TCOcRaYpBIRCmZHTz37sEQ   \n1   ChIJjSlZP_mipBIR0_YxNCqjkTs   \n2   ChIJg1-2b_mipBIRirLgoXI-GXU   \n3   ChIJofXmHliipBIR4iyHDfDXnJA   \n4   ChIJY6oYcliipBIRRvaQXvMe0KY   \n5   ChIJc2TJ9P2ipBIRA65Mte-Mak8   \n6   ChIJbSlW1PeipBIRe0EQZnJJWUc   \n7   ChIJHagl9fCipBIRdsXraeNfmvw   \n8   ChIJQ8ly2viipBIRZANMAFMePb8   \n9   ChIJWU9gM_iipBIRBo0JgzCmYjI   \n10  ChIJu-j3KwCjpBIRGyMRxhc9jjo   \n11  ChIJk_S0dv6ipBIRTseTfN_uc1g   \n12  ChIJn4lKN_mipBIRc8qgol7RIro   \n13  ChIJzwWNcViipBIRZRlzhhFPQvw   \n14  ChIJ28keCFiipBIRAoeXr7g6iVs   \n15  ChIJLeQ8JPqipBIRkCQvTVKBJb0   \n16  ChIJmRxO7_mipBIRdCiunF_6N_U   \n17  ChIJsQcVk1WipBIR5bqvII0Gqqg   \n18  ChIJawSgt_2ipBIR6dBzsSq7yUE   \n19  ChIJ06_4HDmjpBIRomlqqIDieDc   \n\n                                                types  \\\n0                               [locality, political]   \n1         [lodging, point_of_interest, establishment]   \n2   [bar, spa, lodging, restaurant, point_of_inter...   \n3         [lodging, point_of_interest, establishment]   \n4         [lodging, point_of_interest, establishment]   \n5         [lodging, point_of_interest, establishment]   \n6         [lodging, point_of_interest, establishment]   \n7         [lodging, point_of_interest, establishment]   \n8         [lodging, point_of_interest, establishment]   \n9         [lodging, point_of_interest, establishment]   \n10        [lodging, point_of_interest, establishment]   \n11  [restaurant, point_of_interest, food, establis...   \n12        [lodging, point_of_interest, establishment]   \n13        [lodging, point_of_interest, establishment]   \n14        [lodging, point_of_interest, establishment]   \n15        [lodging, point_of_interest, establishment]   \n16  [lodging, restaurant, point_of_interest, food,...   \n17        [lodging, point_of_interest, establishment]   \n18  [meal_takeaway, bar, restaurant, point_of_inte...   \n19      [sublocality_level_1, sublocality, political]   \n\n                                 vicinity business_status  rating  \\\n0                               Barcelona             NaN     NaN   \n1             Via Laietana, 24, Barcelona     OPERATIONAL     4.5   \n2             Via Laietana, 30, Barcelona     OPERATIONAL     4.5   \n3    Rambla dels Caputxins, 45, Barcelona     OPERATIONAL     4.0   \n4     Carrer de Sant Pau, 9-11, Barcelona     OPERATIONAL     4.4   \n5   Passeig de Picasso, 26, 30, Barcelona     OPERATIONAL     4.4   \n6     Carrer de l'Hospital, 26, Barcelona     OPERATIONAL     4.3   \n7             Via Laietana, 61, Barcelona     OPERATIONAL     4.3   \n8         Carrer dels Lledó, 7, Barcelona     OPERATIONAL     4.6   \n9      Carrer de Sant Sever, 5, Barcelona     OPERATIONAL     4.4   \n10            Pla de Palau, 17, Barcelona     OPERATIONAL     4.1   \n11          Carrer del Rec, 30, Barcelona     OPERATIONAL     3.8   \n12        plaça de l'Àngel, 12, Barcelona     OPERATIONAL     4.2   \n13   Carrer de la Boqueria, 23, Barcelona     OPERATIONAL     3.9   \n14               La Rambla, 70, Barcelona     OPERATIONAL     4.3   \n15     Calle, Via Laietana, 42, Barcelona     OPERATIONAL     3.6   \n16    Carrer dels Capellans, 4, Barcelona     OPERATIONAL     4.3   \n17        Passeig de Colom, 12, Barcelona     OPERATIONAL     4.5   \n18   Carrer de la Princesa, 53, Barcelona     OPERATIONAL     4.2   \n19                             Sant Martí             NaN     NaN   \n\n    user_ratings_total       opening_hours        lat       lng  \n0                  NaN                 NaN  41.387397  2.168568  \n1                804.0  {'open_now': True}  41.384388  2.178517  \n2               1116.0  {'open_now': True}  41.384971  2.177765  \n3               1604.0  {'open_now': True}  41.379727  2.174221  \n4                886.0                 NaN  41.379911  2.172841  \n5               1029.0  {'open_now': True}  41.386713  2.183873  \n6                546.0  {'open_now': True}  41.380960  2.172125  \n7               2145.0  {'open_now': True}  41.387867  2.173367  \n8                313.0                 NaN  41.382539  2.178967  \n9                471.0  {'open_now': True}  41.383172  2.175381  \n10              1072.0  {'open_now': True}  41.382779  2.184767  \n11              1647.0  {'open_now': True}  41.385273  2.182687  \n12               902.0  {'open_now': True}  41.383787  2.178323  \n13               595.0  {'open_now': True}  41.381577  2.174290  \n14               435.0  {'open_now': True}  41.380727  2.173938  \n15               969.0  {'open_now': True}  41.386032  2.176199  \n16               839.0  {'open_now': True}  41.384812  2.175112  \n17              1466.0  {'open_now': True}  41.379807  2.180462  \n18              2278.0  {'open_now': True}  41.386908  2.182167  \n19                 NaN                 NaN  41.410010  2.202980  ",
      "text/html": "<div>\n<style scoped>\n    .dataframe tbody tr th:only-of-type {\n        vertical-align: middle;\n    }\n\n    .dataframe tbody tr th {\n        vertical-align: top;\n    }\n\n    .dataframe thead th {\n        text-align: right;\n    }\n</style>\n<table border=\"1\" class=\"dataframe\">\n  <thead>\n    <tr style=\"text-align: right;\">\n      <th></th>\n      <th>name</th>\n      <th>place_id</th>\n      <th>types</th>\n      <th>vicinity</th>\n      <th>business_status</th>\n      <th>rating</th>\n      <th>user_ratings_total</th>\n      <th>opening_hours</th>\n      <th>lat</th>\n      <th>lng</th>\n    </tr>\n  </thead>\n  <tbody>\n    <tr>\n      <th>0</th>\n      <td>Barcelona</td>\n      <td>ChIJ5TCOcRaYpBIRCmZHTz37sEQ</td>\n      <td>[locality, political]</td>\n      <td>Barcelona</td>\n      <td>NaN</td>\n      <td>NaN</td>\n      <td>NaN</td>\n      <td>NaN</td>\n      <td>41.387397</td>\n      <td>2.168568</td>\n    </tr>\n    <tr>\n      <th>1</th>\n      <td>H10 Montcada</td>\n      <td>ChIJjSlZP_mipBIR0_YxNCqjkTs</td>\n      <td>[lodging, point_of_interest, establishment]</td>\n      <td>Via Laietana, 24, Barcelona</td>\n      <td>OPERATIONAL</td>\n      <td>4.5</td>\n      <td>804.0</td>\n      <td>{'open_now': True}</td>\n      <td>41.384388</td>\n      <td>2.178517</td>\n    </tr>\n    <tr>\n      <th>2</th>\n      <td>Grand Hotel Central</td>\n      <td>ChIJg1-2b_mipBIRirLgoXI-GXU</td>\n      <td>[bar, spa, lodging, restaurant, point_of_inter...</td>\n      <td>Via Laietana, 30, Barcelona</td>\n      <td>OPERATIONAL</td>\n      <td>4.5</td>\n      <td>1116.0</td>\n      <td>{'open_now': True}</td>\n      <td>41.384971</td>\n      <td>2.177765</td>\n    </tr>\n    <tr>\n      <th>3</th>\n      <td>Oriente Atiram Hotel Barcelona</td>\n      <td>ChIJofXmHliipBIR4iyHDfDXnJA</td>\n      <td>[lodging, point_of_interest, establishment]</td>\n      <td>Rambla dels Caputxins, 45, Barcelona</td>\n      <td>OPERATIONAL</td>\n      <td>4.0</td>\n      <td>1604.0</td>\n      <td>{'open_now': True}</td>\n      <td>41.379727</td>\n      <td>2.174221</td>\n    </tr>\n    <tr>\n      <th>4</th>\n      <td>Hotel España</td>\n      <td>ChIJY6oYcliipBIRRvaQXvMe0KY</td>\n      <td>[lodging, point_of_interest, establishment]</td>\n      <td>Carrer de Sant Pau, 9-11, Barcelona</td>\n      <td>OPERATIONAL</td>\n      <td>4.4</td>\n      <td>886.0</td>\n      <td>NaN</td>\n      <td>41.379911</td>\n      <td>2.172841</td>\n    </tr>\n    <tr>\n      <th>5</th>\n      <td>K+K Hotel Picasso El Born</td>\n      <td>ChIJc2TJ9P2ipBIRA65Mte-Mak8</td>\n      <td>[lodging, point_of_interest, establishment]</td>\n      <td>Passeig de Picasso, 26, 30, Barcelona</td>\n      <td>OPERATIONAL</td>\n      <td>4.4</td>\n      <td>1029.0</td>\n      <td>{'open_now': True}</td>\n      <td>41.386713</td>\n      <td>2.183873</td>\n    </tr>\n    <tr>\n      <th>6</th>\n      <td>RAMBLAS HOTEL powered by Vincci Hoteles</td>\n      <td>ChIJbSlW1PeipBIRe0EQZnJJWUc</td>\n      <td>[lodging, point_of_interest, establishment]</td>\n      <td>Carrer de l'Hospital, 26, Barcelona</td>\n      <td>OPERATIONAL</td>\n      <td>4.3</td>\n      <td>546.0</td>\n      <td>{'open_now': True}</td>\n      <td>41.380960</td>\n      <td>2.172125</td>\n    </tr>\n    <tr>\n      <th>7</th>\n      <td>Hotel HCC Montblanc</td>\n      <td>ChIJHagl9fCipBIRdsXraeNfmvw</td>\n      <td>[lodging, point_of_interest, establishment]</td>\n      <td>Via Laietana, 61, Barcelona</td>\n      <td>OPERATIONAL</td>\n      <td>4.3</td>\n      <td>2145.0</td>\n      <td>{'open_now': True}</td>\n      <td>41.387867</td>\n      <td>2.173367</td>\n    </tr>\n    <tr>\n      <th>8</th>\n      <td>Mercer Hotel Barcelona</td>\n      <td>ChIJQ8ly2viipBIRZANMAFMePb8</td>\n      <td>[lodging, point_of_interest, establishment]</td>\n      <td>Carrer dels Lledó, 7, Barcelona</td>\n      <td>OPERATIONAL</td>\n      <td>4.6</td>\n      <td>313.0</td>\n      <td>NaN</td>\n      <td>41.382539</td>\n      <td>2.178967</td>\n    </tr>\n    <tr>\n      <th>9</th>\n      <td>Hotel Neri Relais &amp; Chateaux‎</td>\n      <td>ChIJWU9gM_iipBIRBo0JgzCmYjI</td>\n      <td>[lodging, point_of_interest, establishment]</td>\n      <td>Carrer de Sant Sever, 5, Barcelona</td>\n      <td>OPERATIONAL</td>\n      <td>4.4</td>\n      <td>471.0</td>\n      <td>{'open_now': True}</td>\n      <td>41.383172</td>\n      <td>2.175381</td>\n    </tr>\n    <tr>\n      <th>10</th>\n      <td>Hotel Oasis</td>\n      <td>ChIJu-j3KwCjpBIRGyMRxhc9jjo</td>\n      <td>[lodging, point_of_interest, establishment]</td>\n      <td>Pla de Palau, 17, Barcelona</td>\n      <td>OPERATIONAL</td>\n      <td>4.1</td>\n      <td>1072.0</td>\n      <td>{'open_now': True}</td>\n      <td>41.382779</td>\n      <td>2.184767</td>\n    </tr>\n    <tr>\n      <th>11</th>\n      <td>Da Nanni</td>\n      <td>ChIJk_S0dv6ipBIRTseTfN_uc1g</td>\n      <td>[restaurant, point_of_interest, food, establis...</td>\n      <td>Carrer del Rec, 30, Barcelona</td>\n      <td>OPERATIONAL</td>\n      <td>3.8</td>\n      <td>1647.0</td>\n      <td>{'open_now': True}</td>\n      <td>41.385273</td>\n      <td>2.182687</td>\n    </tr>\n    <tr>\n      <th>12</th>\n      <td>Hotel Suizo</td>\n      <td>ChIJn4lKN_mipBIRc8qgol7RIro</td>\n      <td>[lodging, point_of_interest, establishment]</td>\n      <td>plaça de l'Àngel, 12, Barcelona</td>\n      <td>OPERATIONAL</td>\n      <td>4.2</td>\n      <td>902.0</td>\n      <td>{'open_now': True}</td>\n      <td>41.383787</td>\n      <td>2.178323</td>\n    </tr>\n    <tr>\n      <th>13</th>\n      <td>Hotel Condal Barcelona</td>\n      <td>ChIJzwWNcViipBIRZRlzhhFPQvw</td>\n      <td>[lodging, point_of_interest, establishment]</td>\n      <td>Carrer de la Boqueria, 23, Barcelona</td>\n      <td>OPERATIONAL</td>\n      <td>3.9</td>\n      <td>595.0</td>\n      <td>{'open_now': True}</td>\n      <td>41.381577</td>\n      <td>2.174290</td>\n    </tr>\n    <tr>\n      <th>14</th>\n      <td>Hotel Flor Parks</td>\n      <td>ChIJ28keCFiipBIRAoeXr7g6iVs</td>\n      <td>[lodging, point_of_interest, establishment]</td>\n      <td>La Rambla, 70, Barcelona</td>\n      <td>OPERATIONAL</td>\n      <td>4.3</td>\n      <td>435.0</td>\n      <td>{'open_now': True}</td>\n      <td>41.380727</td>\n      <td>2.173938</td>\n    </tr>\n    <tr>\n      <th>15</th>\n      <td>Hotel ILUNION Almirante (Barrio Gótico, Barcel...</td>\n      <td>ChIJLeQ8JPqipBIRkCQvTVKBJb0</td>\n      <td>[lodging, point_of_interest, establishment]</td>\n      <td>Calle, Via Laietana, 42, Barcelona</td>\n      <td>OPERATIONAL</td>\n      <td>3.6</td>\n      <td>969.0</td>\n      <td>{'open_now': True}</td>\n      <td>41.386032</td>\n      <td>2.176199</td>\n    </tr>\n    <tr>\n      <th>16</th>\n      <td>Hotel Barcelona Catedral</td>\n      <td>ChIJmRxO7_mipBIRdCiunF_6N_U</td>\n      <td>[lodging, restaurant, point_of_interest, food,...</td>\n      <td>Carrer dels Capellans, 4, Barcelona</td>\n      <td>OPERATIONAL</td>\n      <td>4.3</td>\n      <td>839.0</td>\n      <td>{'open_now': True}</td>\n      <td>41.384812</td>\n      <td>2.175112</td>\n    </tr>\n    <tr>\n      <th>17</th>\n      <td>Hotel Duquesa de Cardona Barcelona</td>\n      <td>ChIJsQcVk1WipBIR5bqvII0Gqqg</td>\n      <td>[lodging, point_of_interest, establishment]</td>\n      <td>Passeig de Colom, 12, Barcelona</td>\n      <td>OPERATIONAL</td>\n      <td>4.5</td>\n      <td>1466.0</td>\n      <td>{'open_now': True}</td>\n      <td>41.379807</td>\n      <td>2.180462</td>\n    </tr>\n    <tr>\n      <th>18</th>\n      <td>Restaurant El Foro</td>\n      <td>ChIJawSgt_2ipBIR6dBzsSq7yUE</td>\n      <td>[meal_takeaway, bar, restaurant, point_of_inte...</td>\n      <td>Carrer de la Princesa, 53, Barcelona</td>\n      <td>OPERATIONAL</td>\n      <td>4.2</td>\n      <td>2278.0</td>\n      <td>{'open_now': True}</td>\n      <td>41.386908</td>\n      <td>2.182167</td>\n    </tr>\n    <tr>\n      <th>19</th>\n      <td>Sant Martí</td>\n      <td>ChIJ06_4HDmjpBIRomlqqIDieDc</td>\n      <td>[sublocality_level_1, sublocality, political]</td>\n      <td>Sant Martí</td>\n      <td>NaN</td>\n      <td>NaN</td>\n      <td>NaN</td>\n      <td>NaN</td>\n      <td>41.410010</td>\n      <td>2.202980</td>\n    </tr>\n  </tbody>\n</table>\n</div>"
     },
     "execution_count": 10,
     "metadata": {},
     "output_type": "execute_result"
    }
   ],
   "source": [
    "df = df[['geometry', 'name', 'place_id', 'types', 'vicinity', 'business_status', 'rating', 'user_ratings_total', 'opening_hours']]\n",
    "\n",
    "# Extract lat\n",
    "df['lat'] = df['geometry'].apply(lambda x: x['location']['lat'])\n",
    "df['lng'] = df['geometry'].apply(lambda x: x['location']['lng'])\n",
    "df = df.drop(columns=['geometry'])\n",
    "\n",
    "# Extract open_now\n",
    "# Display the dataframe\n",
    "df"
   ],
   "metadata": {
    "collapsed": false
   }
  },
  {
   "cell_type": "code",
   "execution_count": 11,
   "outputs": [
    {
     "data": {
      "text/plain": "<folium.folium.Map at 0x1626fafd0>",
      "text/html": "<div style=\"width:100%;\"><div style=\"position:relative;width:100%;height:0;padding-bottom:60%;\"><span style=\"color:#565656\">Make this Notebook Trusted to load map: File -> Trust Notebook</span><iframe srcdoc=\"&lt;!DOCTYPE html&gt;\n&lt;html&gt;\n&lt;head&gt;\n    \n    &lt;meta http-equiv=&quot;content-type&quot; content=&quot;text/html; charset=UTF-8&quot; /&gt;\n    \n        &lt;script&gt;\n            L_NO_TOUCH = false;\n            L_DISABLE_3D = false;\n        &lt;/script&gt;\n    \n    &lt;style&gt;html, body {width: 100%;height: 100%;margin: 0;padding: 0;}&lt;/style&gt;\n    &lt;style&gt;#map {position:absolute;top:0;bottom:0;right:0;left:0;}&lt;/style&gt;\n    &lt;script src=&quot;https://cdn.jsdelivr.net/npm/leaflet@1.6.0/dist/leaflet.js&quot;&gt;&lt;/script&gt;\n    &lt;script src=&quot;https://code.jquery.com/jquery-1.12.4.min.js&quot;&gt;&lt;/script&gt;\n    &lt;script src=&quot;https://maxcdn.bootstrapcdn.com/bootstrap/3.2.0/js/bootstrap.min.js&quot;&gt;&lt;/script&gt;\n    &lt;script src=&quot;https://cdnjs.cloudflare.com/ajax/libs/Leaflet.awesome-markers/2.0.2/leaflet.awesome-markers.js&quot;&gt;&lt;/script&gt;\n    &lt;link rel=&quot;stylesheet&quot; href=&quot;https://cdn.jsdelivr.net/npm/leaflet@1.6.0/dist/leaflet.css&quot;/&gt;\n    &lt;link rel=&quot;stylesheet&quot; href=&quot;https://maxcdn.bootstrapcdn.com/bootstrap/3.2.0/css/bootstrap.min.css&quot;/&gt;\n    &lt;link rel=&quot;stylesheet&quot; href=&quot;https://maxcdn.bootstrapcdn.com/bootstrap/3.2.0/css/bootstrap-theme.min.css&quot;/&gt;\n    &lt;link rel=&quot;stylesheet&quot; href=&quot;https://maxcdn.bootstrapcdn.com/font-awesome/4.6.3/css/font-awesome.min.css&quot;/&gt;\n    &lt;link rel=&quot;stylesheet&quot; href=&quot;https://cdnjs.cloudflare.com/ajax/libs/Leaflet.awesome-markers/2.0.2/leaflet.awesome-markers.css&quot;/&gt;\n    &lt;link rel=&quot;stylesheet&quot; href=&quot;https://cdn.jsdelivr.net/gh/python-visualization/folium/folium/templates/leaflet.awesome.rotate.min.css&quot;/&gt;\n    \n            &lt;meta name=&quot;viewport&quot; content=&quot;width=device-width,\n                initial-scale=1.0, maximum-scale=1.0, user-scalable=no&quot; /&gt;\n            &lt;style&gt;\n                #map_5e166fb22c315dbc9d9741f6f48520a1 {\n                    position: relative;\n                    width: 100.0%;\n                    height: 100.0%;\n                    left: 0.0%;\n                    top: 0.0%;\n                }\n            &lt;/style&gt;\n        \n&lt;/head&gt;\n&lt;body&gt;\n    \n    \n            &lt;div class=&quot;folium-map&quot; id=&quot;map_5e166fb22c315dbc9d9741f6f48520a1&quot; &gt;&lt;/div&gt;\n        \n&lt;/body&gt;\n&lt;script&gt;\n    \n    \n            var map_5e166fb22c315dbc9d9741f6f48520a1 = L.map(\n                &quot;map_5e166fb22c315dbc9d9741f6f48520a1&quot;,\n                {\n                    center: [41.384967884999995, 2.1783276000000003],\n                    crs: L.CRS.EPSG3857,\n                    zoom: 15,\n                    zoomControl: true,\n                    preferCanvas: false,\n                }\n            );\n\n            \n\n        \n    \n            var tile_layer_318a90152cad9f62dfd525f921f62815 = L.tileLayer(\n                &quot;https://{s}.tile.openstreetmap.org/{z}/{x}/{y}.png&quot;,\n                {&quot;attribution&quot;: &quot;Data by \\u0026copy; \\u003ca href=\\&quot;http://openstreetmap.org\\&quot;\\u003eOpenStreetMap\\u003c/a\\u003e, under \\u003ca href=\\&quot;http://www.openstreetmap.org/copyright\\&quot;\\u003eODbL\\u003c/a\\u003e.&quot;, &quot;detectRetina&quot;: false, &quot;maxNativeZoom&quot;: 18, &quot;maxZoom&quot;: 18, &quot;minZoom&quot;: 0, &quot;noWrap&quot;: false, &quot;opacity&quot;: 1, &quot;subdomains&quot;: &quot;abc&quot;, &quot;tms&quot;: false}\n            ).addTo(map_5e166fb22c315dbc9d9741f6f48520a1);\n        \n    \n            var marker_a79ead02ec3ba3d31cddbde5c0678a5d = L.marker(\n                [41.3873974, 2.168568],\n                {}\n            ).addTo(map_5e166fb22c315dbc9d9741f6f48520a1);\n        \n    \n            var icon_2817e4fa4324731f3a6c3230caf7acfc = L.AwesomeMarkers.icon(\n                {&quot;extraClasses&quot;: &quot;fa-rotate-0&quot;, &quot;icon&quot;: &quot;cross&quot;, &quot;iconColor&quot;: &quot;white&quot;, &quot;markerColor&quot;: &quot;blue&quot;, &quot;prefix&quot;: &quot;glyphicon&quot;}\n            );\n            marker_a79ead02ec3ba3d31cddbde5c0678a5d.setIcon(icon_2817e4fa4324731f3a6c3230caf7acfc);\n        \n    \n        var popup_b2ca05e57db03a8e4079a3f924721209 = L.popup({&quot;maxWidth&quot;: &quot;100%&quot;});\n\n        \n            \n                var html_a72f218e34e3ceca867b1f6c004f6a04 = $(`&lt;div id=&quot;html_a72f218e34e3ceca867b1f6c004f6a04&quot; style=&quot;width: 100.0%; height: 100.0%;&quot;&gt;Barcelona&lt;/div&gt;`)[0];\n                popup_b2ca05e57db03a8e4079a3f924721209.setContent(html_a72f218e34e3ceca867b1f6c004f6a04);\n            \n        \n\n        marker_a79ead02ec3ba3d31cddbde5c0678a5d.bindPopup(popup_b2ca05e57db03a8e4079a3f924721209)\n        ;\n\n        \n    \n    \n            var marker_e7fd9513abca32de4c568d7207851e3c = L.marker(\n                [41.3843884, 2.1785174],\n                {}\n            ).addTo(map_5e166fb22c315dbc9d9741f6f48520a1);\n        \n    \n            var icon_51084e8e5151df99f49b616d634b9f26 = L.AwesomeMarkers.icon(\n                {&quot;extraClasses&quot;: &quot;fa-rotate-0&quot;, &quot;icon&quot;: &quot;cross&quot;, &quot;iconColor&quot;: &quot;white&quot;, &quot;markerColor&quot;: &quot;blue&quot;, &quot;prefix&quot;: &quot;glyphicon&quot;}\n            );\n            marker_e7fd9513abca32de4c568d7207851e3c.setIcon(icon_51084e8e5151df99f49b616d634b9f26);\n        \n    \n        var popup_ed5844e2ac1a3fad4819d2f7b50dbf71 = L.popup({&quot;maxWidth&quot;: &quot;100%&quot;});\n\n        \n            \n                var html_0cf5e78edbc18894d7c92ab823742329 = $(`&lt;div id=&quot;html_0cf5e78edbc18894d7c92ab823742329&quot; style=&quot;width: 100.0%; height: 100.0%;&quot;&gt;H10 Montcada&lt;/div&gt;`)[0];\n                popup_ed5844e2ac1a3fad4819d2f7b50dbf71.setContent(html_0cf5e78edbc18894d7c92ab823742329);\n            \n        \n\n        marker_e7fd9513abca32de4c568d7207851e3c.bindPopup(popup_ed5844e2ac1a3fad4819d2f7b50dbf71)\n        ;\n\n        \n    \n    \n            var marker_41d5ac2cf6a68f589480374703895a65 = L.marker(\n                [41.3849706, 2.1777654],\n                {}\n            ).addTo(map_5e166fb22c315dbc9d9741f6f48520a1);\n        \n    \n            var icon_bd80a65c05fdc5871231f06f0d4ee5d0 = L.AwesomeMarkers.icon(\n                {&quot;extraClasses&quot;: &quot;fa-rotate-0&quot;, &quot;icon&quot;: &quot;cross&quot;, &quot;iconColor&quot;: &quot;white&quot;, &quot;markerColor&quot;: &quot;blue&quot;, &quot;prefix&quot;: &quot;glyphicon&quot;}\n            );\n            marker_41d5ac2cf6a68f589480374703895a65.setIcon(icon_bd80a65c05fdc5871231f06f0d4ee5d0);\n        \n    \n        var popup_66f470e9522ebb7c19adc4ba068b2efb = L.popup({&quot;maxWidth&quot;: &quot;100%&quot;});\n\n        \n            \n                var html_ab820108c6a61c2b42088c167d5b6d86 = $(`&lt;div id=&quot;html_ab820108c6a61c2b42088c167d5b6d86&quot; style=&quot;width: 100.0%; height: 100.0%;&quot;&gt;Grand Hotel Central&lt;/div&gt;`)[0];\n                popup_66f470e9522ebb7c19adc4ba068b2efb.setContent(html_ab820108c6a61c2b42088c167d5b6d86);\n            \n        \n\n        marker_41d5ac2cf6a68f589480374703895a65.bindPopup(popup_66f470e9522ebb7c19adc4ba068b2efb)\n        ;\n\n        \n    \n    \n            var marker_2f835e2c833fa98c4f7c78955fbc4c46 = L.marker(\n                [41.37972699999999, 2.1742212],\n                {}\n            ).addTo(map_5e166fb22c315dbc9d9741f6f48520a1);\n        \n    \n            var icon_d7288e2d9cc94b98a8e09b64c0c884ca = L.AwesomeMarkers.icon(\n                {&quot;extraClasses&quot;: &quot;fa-rotate-0&quot;, &quot;icon&quot;: &quot;cross&quot;, &quot;iconColor&quot;: &quot;white&quot;, &quot;markerColor&quot;: &quot;blue&quot;, &quot;prefix&quot;: &quot;glyphicon&quot;}\n            );\n            marker_2f835e2c833fa98c4f7c78955fbc4c46.setIcon(icon_d7288e2d9cc94b98a8e09b64c0c884ca);\n        \n    \n        var popup_657e30d834a7b0c26a432a024db546c4 = L.popup({&quot;maxWidth&quot;: &quot;100%&quot;});\n\n        \n            \n                var html_a23fced7d98f9d12c1a7ad6ed8787131 = $(`&lt;div id=&quot;html_a23fced7d98f9d12c1a7ad6ed8787131&quot; style=&quot;width: 100.0%; height: 100.0%;&quot;&gt;Oriente Atiram Hotel Barcelona&lt;/div&gt;`)[0];\n                popup_657e30d834a7b0c26a432a024db546c4.setContent(html_a23fced7d98f9d12c1a7ad6ed8787131);\n            \n        \n\n        marker_2f835e2c833fa98c4f7c78955fbc4c46.bindPopup(popup_657e30d834a7b0c26a432a024db546c4)\n        ;\n\n        \n    \n    \n            var marker_63603b31a95c6ebba71be5b53e4aa45b = L.marker(\n                [41.37991050000001, 2.1728412],\n                {}\n            ).addTo(map_5e166fb22c315dbc9d9741f6f48520a1);\n        \n    \n            var icon_5c973f9184cc2234d8cc77044e9bb615 = L.AwesomeMarkers.icon(\n                {&quot;extraClasses&quot;: &quot;fa-rotate-0&quot;, &quot;icon&quot;: &quot;cross&quot;, &quot;iconColor&quot;: &quot;white&quot;, &quot;markerColor&quot;: &quot;blue&quot;, &quot;prefix&quot;: &quot;glyphicon&quot;}\n            );\n            marker_63603b31a95c6ebba71be5b53e4aa45b.setIcon(icon_5c973f9184cc2234d8cc77044e9bb615);\n        \n    \n        var popup_fc17ebb477e29f95abc579a3cedd0413 = L.popup({&quot;maxWidth&quot;: &quot;100%&quot;});\n\n        \n            \n                var html_b70447e7a0b710ec61f4de0d79452efd = $(`&lt;div id=&quot;html_b70447e7a0b710ec61f4de0d79452efd&quot; style=&quot;width: 100.0%; height: 100.0%;&quot;&gt;Hotel España&lt;/div&gt;`)[0];\n                popup_fc17ebb477e29f95abc579a3cedd0413.setContent(html_b70447e7a0b710ec61f4de0d79452efd);\n            \n        \n\n        marker_63603b31a95c6ebba71be5b53e4aa45b.bindPopup(popup_fc17ebb477e29f95abc579a3cedd0413)\n        ;\n\n        \n    \n    \n            var marker_5d8fb5a05f6940b488e59c8ac93840f1 = L.marker(\n                [41.3867134, 2.1838728],\n                {}\n            ).addTo(map_5e166fb22c315dbc9d9741f6f48520a1);\n        \n    \n            var icon_3d13f7da231d29bb561b8704214874a6 = L.AwesomeMarkers.icon(\n                {&quot;extraClasses&quot;: &quot;fa-rotate-0&quot;, &quot;icon&quot;: &quot;cross&quot;, &quot;iconColor&quot;: &quot;white&quot;, &quot;markerColor&quot;: &quot;blue&quot;, &quot;prefix&quot;: &quot;glyphicon&quot;}\n            );\n            marker_5d8fb5a05f6940b488e59c8ac93840f1.setIcon(icon_3d13f7da231d29bb561b8704214874a6);\n        \n    \n        var popup_c1b37d02004481a53ad6c723ef0efca3 = L.popup({&quot;maxWidth&quot;: &quot;100%&quot;});\n\n        \n            \n                var html_79b90d2b3611e4b6b134bd3a5b52628e = $(`&lt;div id=&quot;html_79b90d2b3611e4b6b134bd3a5b52628e&quot; style=&quot;width: 100.0%; height: 100.0%;&quot;&gt;K+K Hotel Picasso El Born&lt;/div&gt;`)[0];\n                popup_c1b37d02004481a53ad6c723ef0efca3.setContent(html_79b90d2b3611e4b6b134bd3a5b52628e);\n            \n        \n\n        marker_5d8fb5a05f6940b488e59c8ac93840f1.bindPopup(popup_c1b37d02004481a53ad6c723ef0efca3)\n        ;\n\n        \n    \n    \n            var marker_99af4d9b801b8bebc3d86ec3642f0d2a = L.marker(\n                [41.38095999999999, 2.172124999999999],\n                {}\n            ).addTo(map_5e166fb22c315dbc9d9741f6f48520a1);\n        \n    \n            var icon_c6aeea072a76e84bf074ba0fbd3247fc = L.AwesomeMarkers.icon(\n                {&quot;extraClasses&quot;: &quot;fa-rotate-0&quot;, &quot;icon&quot;: &quot;cross&quot;, &quot;iconColor&quot;: &quot;white&quot;, &quot;markerColor&quot;: &quot;blue&quot;, &quot;prefix&quot;: &quot;glyphicon&quot;}\n            );\n            marker_99af4d9b801b8bebc3d86ec3642f0d2a.setIcon(icon_c6aeea072a76e84bf074ba0fbd3247fc);\n        \n    \n        var popup_0538630d40ae351bd2508fbdd5420732 = L.popup({&quot;maxWidth&quot;: &quot;100%&quot;});\n\n        \n            \n                var html_49a0067497caf59267a580ac9ee3c6a0 = $(`&lt;div id=&quot;html_49a0067497caf59267a580ac9ee3c6a0&quot; style=&quot;width: 100.0%; height: 100.0%;&quot;&gt;RAMBLAS HOTEL powered by Vincci Hoteles&lt;/div&gt;`)[0];\n                popup_0538630d40ae351bd2508fbdd5420732.setContent(html_49a0067497caf59267a580ac9ee3c6a0);\n            \n        \n\n        marker_99af4d9b801b8bebc3d86ec3642f0d2a.bindPopup(popup_0538630d40ae351bd2508fbdd5420732)\n        ;\n\n        \n    \n    \n            var marker_bba1772ddb200e0183c57fbd4cf73e3e = L.marker(\n                [41.3878667, 2.1733667],\n                {}\n            ).addTo(map_5e166fb22c315dbc9d9741f6f48520a1);\n        \n    \n            var icon_725cb42829858db8bed1e4322ae6bc89 = L.AwesomeMarkers.icon(\n                {&quot;extraClasses&quot;: &quot;fa-rotate-0&quot;, &quot;icon&quot;: &quot;cross&quot;, &quot;iconColor&quot;: &quot;white&quot;, &quot;markerColor&quot;: &quot;blue&quot;, &quot;prefix&quot;: &quot;glyphicon&quot;}\n            );\n            marker_bba1772ddb200e0183c57fbd4cf73e3e.setIcon(icon_725cb42829858db8bed1e4322ae6bc89);\n        \n    \n        var popup_6cd036ca3cc0fdc2dd3a31e77056d7e5 = L.popup({&quot;maxWidth&quot;: &quot;100%&quot;});\n\n        \n            \n                var html_7ae45566b550754c2b22a52b8d7ae7cb = $(`&lt;div id=&quot;html_7ae45566b550754c2b22a52b8d7ae7cb&quot; style=&quot;width: 100.0%; height: 100.0%;&quot;&gt;Hotel HCC Montblanc&lt;/div&gt;`)[0];\n                popup_6cd036ca3cc0fdc2dd3a31e77056d7e5.setContent(html_7ae45566b550754c2b22a52b8d7ae7cb);\n            \n        \n\n        marker_bba1772ddb200e0183c57fbd4cf73e3e.bindPopup(popup_6cd036ca3cc0fdc2dd3a31e77056d7e5)\n        ;\n\n        \n    \n    \n            var marker_9e4890e8635a4f06eb46cf712e38a7fc = L.marker(\n                [41.3825393, 2.1789669],\n                {}\n            ).addTo(map_5e166fb22c315dbc9d9741f6f48520a1);\n        \n    \n            var icon_17eed42a738deffb36a612136685a8f8 = L.AwesomeMarkers.icon(\n                {&quot;extraClasses&quot;: &quot;fa-rotate-0&quot;, &quot;icon&quot;: &quot;cross&quot;, &quot;iconColor&quot;: &quot;white&quot;, &quot;markerColor&quot;: &quot;blue&quot;, &quot;prefix&quot;: &quot;glyphicon&quot;}\n            );\n            marker_9e4890e8635a4f06eb46cf712e38a7fc.setIcon(icon_17eed42a738deffb36a612136685a8f8);\n        \n    \n        var popup_5f98481d5a13ea995df44a0f1774c593 = L.popup({&quot;maxWidth&quot;: &quot;100%&quot;});\n\n        \n            \n                var html_5489e989a90327407ce9a2654fcf34f9 = $(`&lt;div id=&quot;html_5489e989a90327407ce9a2654fcf34f9&quot; style=&quot;width: 100.0%; height: 100.0%;&quot;&gt;Mercer Hotel Barcelona&lt;/div&gt;`)[0];\n                popup_5f98481d5a13ea995df44a0f1774c593.setContent(html_5489e989a90327407ce9a2654fcf34f9);\n            \n        \n\n        marker_9e4890e8635a4f06eb46cf712e38a7fc.bindPopup(popup_5f98481d5a13ea995df44a0f1774c593)\n        ;\n\n        \n    \n    \n            var marker_2a9591ae0db648f957410b3dde2173dd = L.marker(\n                [41.3831717, 2.1753815],\n                {}\n            ).addTo(map_5e166fb22c315dbc9d9741f6f48520a1);\n        \n    \n            var icon_ffc15e12437fdb49e2fc0bd7227dc0be = L.AwesomeMarkers.icon(\n                {&quot;extraClasses&quot;: &quot;fa-rotate-0&quot;, &quot;icon&quot;: &quot;cross&quot;, &quot;iconColor&quot;: &quot;white&quot;, &quot;markerColor&quot;: &quot;blue&quot;, &quot;prefix&quot;: &quot;glyphicon&quot;}\n            );\n            marker_2a9591ae0db648f957410b3dde2173dd.setIcon(icon_ffc15e12437fdb49e2fc0bd7227dc0be);\n        \n    \n        var popup_c393ef2958a8f4d8b6608c7847c1e3be = L.popup({&quot;maxWidth&quot;: &quot;100%&quot;});\n\n        \n            \n                var html_d16072c6b9aace95bb1d035c7d3622c9 = $(`&lt;div id=&quot;html_d16072c6b9aace95bb1d035c7d3622c9&quot; style=&quot;width: 100.0%; height: 100.0%;&quot;&gt;Hotel Neri Relais &amp; Chateaux‎&lt;/div&gt;`)[0];\n                popup_c393ef2958a8f4d8b6608c7847c1e3be.setContent(html_d16072c6b9aace95bb1d035c7d3622c9);\n            \n        \n\n        marker_2a9591ae0db648f957410b3dde2173dd.bindPopup(popup_c393ef2958a8f4d8b6608c7847c1e3be)\n        ;\n\n        \n    \n    \n            var marker_6a8e546356e4c7f378b4a4c20f0491c2 = L.marker(\n                [41.3827789, 2.1847671],\n                {}\n            ).addTo(map_5e166fb22c315dbc9d9741f6f48520a1);\n        \n    \n            var icon_0583c8237e893b8be06734550b88978d = L.AwesomeMarkers.icon(\n                {&quot;extraClasses&quot;: &quot;fa-rotate-0&quot;, &quot;icon&quot;: &quot;cross&quot;, &quot;iconColor&quot;: &quot;white&quot;, &quot;markerColor&quot;: &quot;blue&quot;, &quot;prefix&quot;: &quot;glyphicon&quot;}\n            );\n            marker_6a8e546356e4c7f378b4a4c20f0491c2.setIcon(icon_0583c8237e893b8be06734550b88978d);\n        \n    \n        var popup_6b90c66dc8fc96474a81acd55cc86bcb = L.popup({&quot;maxWidth&quot;: &quot;100%&quot;});\n\n        \n            \n                var html_0f9c99f97caa48b0b631f5c25625140f = $(`&lt;div id=&quot;html_0f9c99f97caa48b0b631f5c25625140f&quot; style=&quot;width: 100.0%; height: 100.0%;&quot;&gt;Hotel Oasis&lt;/div&gt;`)[0];\n                popup_6b90c66dc8fc96474a81acd55cc86bcb.setContent(html_0f9c99f97caa48b0b631f5c25625140f);\n            \n        \n\n        marker_6a8e546356e4c7f378b4a4c20f0491c2.bindPopup(popup_6b90c66dc8fc96474a81acd55cc86bcb)\n        ;\n\n        \n    \n    \n            var marker_6759df6f7d713952a291e1e5131ba9b5 = L.marker(\n                [41.3852732, 2.1826869],\n                {}\n            ).addTo(map_5e166fb22c315dbc9d9741f6f48520a1);\n        \n    \n            var icon_748bdbf2214701a57681d2dc70f3509e = L.AwesomeMarkers.icon(\n                {&quot;extraClasses&quot;: &quot;fa-rotate-0&quot;, &quot;icon&quot;: &quot;cross&quot;, &quot;iconColor&quot;: &quot;white&quot;, &quot;markerColor&quot;: &quot;blue&quot;, &quot;prefix&quot;: &quot;glyphicon&quot;}\n            );\n            marker_6759df6f7d713952a291e1e5131ba9b5.setIcon(icon_748bdbf2214701a57681d2dc70f3509e);\n        \n    \n        var popup_a0c24d093632458cb55179103d64b0d0 = L.popup({&quot;maxWidth&quot;: &quot;100%&quot;});\n\n        \n            \n                var html_3307fda6c47b7354f561978b68826a91 = $(`&lt;div id=&quot;html_3307fda6c47b7354f561978b68826a91&quot; style=&quot;width: 100.0%; height: 100.0%;&quot;&gt;Da Nanni&lt;/div&gt;`)[0];\n                popup_a0c24d093632458cb55179103d64b0d0.setContent(html_3307fda6c47b7354f561978b68826a91);\n            \n        \n\n        marker_6759df6f7d713952a291e1e5131ba9b5.bindPopup(popup_a0c24d093632458cb55179103d64b0d0)\n        ;\n\n        \n    \n    \n            var marker_0e353750b8172bed9b208c06905987cc = L.marker(\n                [41.3837875, 2.1783233],\n                {}\n            ).addTo(map_5e166fb22c315dbc9d9741f6f48520a1);\n        \n    \n            var icon_ab41abe1427f7803ffdad4a07514d54c = L.AwesomeMarkers.icon(\n                {&quot;extraClasses&quot;: &quot;fa-rotate-0&quot;, &quot;icon&quot;: &quot;cross&quot;, &quot;iconColor&quot;: &quot;white&quot;, &quot;markerColor&quot;: &quot;blue&quot;, &quot;prefix&quot;: &quot;glyphicon&quot;}\n            );\n            marker_0e353750b8172bed9b208c06905987cc.setIcon(icon_ab41abe1427f7803ffdad4a07514d54c);\n        \n    \n        var popup_dc33a787e2718e6972a5836bdb92578d = L.popup({&quot;maxWidth&quot;: &quot;100%&quot;});\n\n        \n            \n                var html_3541d30330cdbf77531e2f13ef2bd043 = $(`&lt;div id=&quot;html_3541d30330cdbf77531e2f13ef2bd043&quot; style=&quot;width: 100.0%; height: 100.0%;&quot;&gt;Hotel Suizo&lt;/div&gt;`)[0];\n                popup_dc33a787e2718e6972a5836bdb92578d.setContent(html_3541d30330cdbf77531e2f13ef2bd043);\n            \n        \n\n        marker_0e353750b8172bed9b208c06905987cc.bindPopup(popup_dc33a787e2718e6972a5836bdb92578d)\n        ;\n\n        \n    \n    \n            var marker_66fd04ee3ab6838189ffa4be07e68c7b = L.marker(\n                [41.3815765, 2.174289899999999],\n                {}\n            ).addTo(map_5e166fb22c315dbc9d9741f6f48520a1);\n        \n    \n            var icon_a700d2e7f407d42b1ddd48dfc9ea9cf1 = L.AwesomeMarkers.icon(\n                {&quot;extraClasses&quot;: &quot;fa-rotate-0&quot;, &quot;icon&quot;: &quot;cross&quot;, &quot;iconColor&quot;: &quot;white&quot;, &quot;markerColor&quot;: &quot;blue&quot;, &quot;prefix&quot;: &quot;glyphicon&quot;}\n            );\n            marker_66fd04ee3ab6838189ffa4be07e68c7b.setIcon(icon_a700d2e7f407d42b1ddd48dfc9ea9cf1);\n        \n    \n        var popup_aefc9db9ef3b589aa944f2b85d180b62 = L.popup({&quot;maxWidth&quot;: &quot;100%&quot;});\n\n        \n            \n                var html_586eedf20cc1bc81cefa53427d756ec7 = $(`&lt;div id=&quot;html_586eedf20cc1bc81cefa53427d756ec7&quot; style=&quot;width: 100.0%; height: 100.0%;&quot;&gt;Hotel Condal Barcelona&lt;/div&gt;`)[0];\n                popup_aefc9db9ef3b589aa944f2b85d180b62.setContent(html_586eedf20cc1bc81cefa53427d756ec7);\n            \n        \n\n        marker_66fd04ee3ab6838189ffa4be07e68c7b.bindPopup(popup_aefc9db9ef3b589aa944f2b85d180b62)\n        ;\n\n        \n    \n    \n            var marker_7bd2aa18a36b9a693d3d07578cad0947 = L.marker(\n                [41.38072690000001, 2.1739379],\n                {}\n            ).addTo(map_5e166fb22c315dbc9d9741f6f48520a1);\n        \n    \n            var icon_0c76fd4c8085fc57ee129e34fe0e2a4b = L.AwesomeMarkers.icon(\n                {&quot;extraClasses&quot;: &quot;fa-rotate-0&quot;, &quot;icon&quot;: &quot;cross&quot;, &quot;iconColor&quot;: &quot;white&quot;, &quot;markerColor&quot;: &quot;blue&quot;, &quot;prefix&quot;: &quot;glyphicon&quot;}\n            );\n            marker_7bd2aa18a36b9a693d3d07578cad0947.setIcon(icon_0c76fd4c8085fc57ee129e34fe0e2a4b);\n        \n    \n        var popup_1eae59347a5cf46f9b5a861b92cfc75d = L.popup({&quot;maxWidth&quot;: &quot;100%&quot;});\n\n        \n            \n                var html_aa3b82103dbe759605bd5f22708e3139 = $(`&lt;div id=&quot;html_aa3b82103dbe759605bd5f22708e3139&quot; style=&quot;width: 100.0%; height: 100.0%;&quot;&gt;Hotel Flor Parks&lt;/div&gt;`)[0];\n                popup_1eae59347a5cf46f9b5a861b92cfc75d.setContent(html_aa3b82103dbe759605bd5f22708e3139);\n            \n        \n\n        marker_7bd2aa18a36b9a693d3d07578cad0947.bindPopup(popup_1eae59347a5cf46f9b5a861b92cfc75d)\n        ;\n\n        \n    \n    \n            var marker_1e45677a56e7339a5ce730dea623a14a = L.marker(\n                [41.3860321, 2.176199],\n                {}\n            ).addTo(map_5e166fb22c315dbc9d9741f6f48520a1);\n        \n    \n            var icon_b0a6f08c04294c47662d25d3a7dd405f = L.AwesomeMarkers.icon(\n                {&quot;extraClasses&quot;: &quot;fa-rotate-0&quot;, &quot;icon&quot;: &quot;cross&quot;, &quot;iconColor&quot;: &quot;white&quot;, &quot;markerColor&quot;: &quot;blue&quot;, &quot;prefix&quot;: &quot;glyphicon&quot;}\n            );\n            marker_1e45677a56e7339a5ce730dea623a14a.setIcon(icon_b0a6f08c04294c47662d25d3a7dd405f);\n        \n    \n        var popup_5e8268df16c0bef0cc8e92274cf9d0f6 = L.popup({&quot;maxWidth&quot;: &quot;100%&quot;});\n\n        \n            \n                var html_a549ed9936e37dbc3ad866c2399f2754 = $(`&lt;div id=&quot;html_a549ed9936e37dbc3ad866c2399f2754&quot; style=&quot;width: 100.0%; height: 100.0%;&quot;&gt;Hotel ILUNION Almirante (Barrio Gótico, Barcelona)&lt;/div&gt;`)[0];\n                popup_5e8268df16c0bef0cc8e92274cf9d0f6.setContent(html_a549ed9936e37dbc3ad866c2399f2754);\n            \n        \n\n        marker_1e45677a56e7339a5ce730dea623a14a.bindPopup(popup_5e8268df16c0bef0cc8e92274cf9d0f6)\n        ;\n\n        \n    \n    \n            var marker_3255c549a54a9e3bd1169601ac9fd4d1 = L.marker(\n                [41.38481199999999, 2.1751122],\n                {}\n            ).addTo(map_5e166fb22c315dbc9d9741f6f48520a1);\n        \n    \n            var icon_bf66a65341796b2a253dcac0add8766b = L.AwesomeMarkers.icon(\n                {&quot;extraClasses&quot;: &quot;fa-rotate-0&quot;, &quot;icon&quot;: &quot;cross&quot;, &quot;iconColor&quot;: &quot;white&quot;, &quot;markerColor&quot;: &quot;blue&quot;, &quot;prefix&quot;: &quot;glyphicon&quot;}\n            );\n            marker_3255c549a54a9e3bd1169601ac9fd4d1.setIcon(icon_bf66a65341796b2a253dcac0add8766b);\n        \n    \n        var popup_c936b9459e3c3989873f573c4bae3240 = L.popup({&quot;maxWidth&quot;: &quot;100%&quot;});\n\n        \n            \n                var html_6e847a54f26bc48264f50b186e64304f = $(`&lt;div id=&quot;html_6e847a54f26bc48264f50b186e64304f&quot; style=&quot;width: 100.0%; height: 100.0%;&quot;&gt;Hotel Barcelona Catedral&lt;/div&gt;`)[0];\n                popup_c936b9459e3c3989873f573c4bae3240.setContent(html_6e847a54f26bc48264f50b186e64304f);\n            \n        \n\n        marker_3255c549a54a9e3bd1169601ac9fd4d1.bindPopup(popup_c936b9459e3c3989873f573c4bae3240)\n        ;\n\n        \n    \n    \n            var marker_deddeddd53090c54d745a503f927c11b = L.marker(\n                [41.3798075, 2.1804625],\n                {}\n            ).addTo(map_5e166fb22c315dbc9d9741f6f48520a1);\n        \n    \n            var icon_ddc4d7147ecd4c490c7ad96fc39ee481 = L.AwesomeMarkers.icon(\n                {&quot;extraClasses&quot;: &quot;fa-rotate-0&quot;, &quot;icon&quot;: &quot;cross&quot;, &quot;iconColor&quot;: &quot;white&quot;, &quot;markerColor&quot;: &quot;blue&quot;, &quot;prefix&quot;: &quot;glyphicon&quot;}\n            );\n            marker_deddeddd53090c54d745a503f927c11b.setIcon(icon_ddc4d7147ecd4c490c7ad96fc39ee481);\n        \n    \n        var popup_cb6d4380d5e2e8dba8250d1a22d1b581 = L.popup({&quot;maxWidth&quot;: &quot;100%&quot;});\n\n        \n            \n                var html_07493878214c46b212d10fc4f3759683 = $(`&lt;div id=&quot;html_07493878214c46b212d10fc4f3759683&quot; style=&quot;width: 100.0%; height: 100.0%;&quot;&gt;Hotel Duquesa de Cardona Barcelona&lt;/div&gt;`)[0];\n                popup_cb6d4380d5e2e8dba8250d1a22d1b581.setContent(html_07493878214c46b212d10fc4f3759683);\n            \n        \n\n        marker_deddeddd53090c54d745a503f927c11b.bindPopup(popup_cb6d4380d5e2e8dba8250d1a22d1b581)\n        ;\n\n        \n    \n    \n            var marker_2658a998fd68a2ecbf9281e27ba68bb7 = L.marker(\n                [41.3869083, 2.1821667],\n                {}\n            ).addTo(map_5e166fb22c315dbc9d9741f6f48520a1);\n        \n    \n            var icon_f4840f6f7ce0483c0a64ffe231eb6043 = L.AwesomeMarkers.icon(\n                {&quot;extraClasses&quot;: &quot;fa-rotate-0&quot;, &quot;icon&quot;: &quot;cross&quot;, &quot;iconColor&quot;: &quot;white&quot;, &quot;markerColor&quot;: &quot;blue&quot;, &quot;prefix&quot;: &quot;glyphicon&quot;}\n            );\n            marker_2658a998fd68a2ecbf9281e27ba68bb7.setIcon(icon_f4840f6f7ce0483c0a64ffe231eb6043);\n        \n    \n        var popup_cc66da6e9f0dfe4a79eefa016599f624 = L.popup({&quot;maxWidth&quot;: &quot;100%&quot;});\n\n        \n            \n                var html_509da49280915c290a5359e62fd623e9 = $(`&lt;div id=&quot;html_509da49280915c290a5359e62fd623e9&quot; style=&quot;width: 100.0%; height: 100.0%;&quot;&gt;Restaurant El Foro&lt;/div&gt;`)[0];\n                popup_cc66da6e9f0dfe4a79eefa016599f624.setContent(html_509da49280915c290a5359e62fd623e9);\n            \n        \n\n        marker_2658a998fd68a2ecbf9281e27ba68bb7.bindPopup(popup_cc66da6e9f0dfe4a79eefa016599f624)\n        ;\n\n        \n    \n    \n            var marker_5fba27bfb3ab4594091a8db839df1304 = L.marker(\n                [41.4100098, 2.2029804],\n                {}\n            ).addTo(map_5e166fb22c315dbc9d9741f6f48520a1);\n        \n    \n            var icon_730b625d4478f85d34716ca2e388430d = L.AwesomeMarkers.icon(\n                {&quot;extraClasses&quot;: &quot;fa-rotate-0&quot;, &quot;icon&quot;: &quot;cross&quot;, &quot;iconColor&quot;: &quot;white&quot;, &quot;markerColor&quot;: &quot;blue&quot;, &quot;prefix&quot;: &quot;glyphicon&quot;}\n            );\n            marker_5fba27bfb3ab4594091a8db839df1304.setIcon(icon_730b625d4478f85d34716ca2e388430d);\n        \n    \n        var popup_552432a417360a046460dff475518afd = L.popup({&quot;maxWidth&quot;: &quot;100%&quot;});\n\n        \n            \n                var html_8353be74f1b54a5c36c34e4186027c28 = $(`&lt;div id=&quot;html_8353be74f1b54a5c36c34e4186027c28&quot; style=&quot;width: 100.0%; height: 100.0%;&quot;&gt;Sant Martí&lt;/div&gt;`)[0];\n                popup_552432a417360a046460dff475518afd.setContent(html_8353be74f1b54a5c36c34e4186027c28);\n            \n        \n\n        marker_5fba27bfb3ab4594091a8db839df1304.bindPopup(popup_552432a417360a046460dff475518afd)\n        ;\n\n        \n    \n&lt;/script&gt;\n&lt;/html&gt;\" style=\"position:absolute;width:100%;height:100%;left:0;top:0;border:none !important;\" allowfullscreen webkitallowfullscreen mozallowfullscreen></iframe></div></div>"
     },
     "execution_count": 11,
     "metadata": {},
     "output_type": "execute_result"
    }
   ],
   "source": [
    "# Visualize first 10 results from the csv table on a map\n",
    "# df = df[:10]\n",
    "# Generate location between items in the dataframe - find middle point\n",
    "lat = df['lat'].mean()\n",
    "lng = df['lng'].mean()\n",
    "\n",
    "# Create a map of the city\n",
    "city_map = fl.Map(location=[lat, lng], zoom_start=15)\n",
    "\n",
    "# Add a marker for each item in the dataframe\n",
    "for i in range(0, len(df)):\n",
    "    fl.Marker([df.iloc[i]['lat'], df.iloc[i]['lng']], popup=df.iloc[i]['name'], icon=fl.Icon(color='blue', icon='cross' ),).add_to(city_map)\n",
    "\n",
    "# Display the map\n",
    "city_map\n"
   ],
   "metadata": {
    "collapsed": false
   }
  },
  {
   "cell_type": "code",
   "execution_count": 12,
   "outputs": [
    {
     "name": "stdout",
     "output_type": "stream",
     "text": [
      "Could not import the PyAudio C module 'pyaudio._portaudio'.\n"
     ]
    },
    {
     "ename": "ImportError",
     "evalue": "dlopen(/Users/nilsjennissen/PycharmProjects/location_storyteller/venv/lib/python3.9/site-packages/pyaudio/_portaudio.cpython-39-darwin.so, 0x0002): symbol not found in flat namespace '_PaMacCore_SetupChannelMap'",
     "output_type": "error",
     "traceback": [
      "\u001B[0;31m---------------------------------------------------------------------------\u001B[0m",
      "\u001B[0;31mImportError\u001B[0m                               Traceback (most recent call last)",
      "Cell \u001B[0;32mIn[12], line 1\u001B[0m\n\u001B[0;32m----> 1\u001B[0m \u001B[38;5;28;01mimport\u001B[39;00m \u001B[38;5;21;01mpyaudio\u001B[39;00m\n\u001B[1;32m      2\u001B[0m \u001B[38;5;28;01mimport\u001B[39;00m \u001B[38;5;21;01msys\u001B[39;00m\n\u001B[1;32m      3\u001B[0m \u001B[38;5;28;01mimport\u001B[39;00m \u001B[38;5;21;01mwave\u001B[39;00m\n",
      "File \u001B[0;32m~/PycharmProjects/location_storyteller/venv/lib/python3.9/site-packages/pyaudio/__init__.py:111\u001B[0m\n\u001B[1;32m    108\u001B[0m \u001B[38;5;28;01mimport\u001B[39;00m \u001B[38;5;21;01mwarnings\u001B[39;00m\n\u001B[1;32m    110\u001B[0m \u001B[38;5;28;01mtry\u001B[39;00m:\n\u001B[0;32m--> 111\u001B[0m     \u001B[38;5;28;01mimport\u001B[39;00m \u001B[38;5;21;01mpyaudio\u001B[39;00m\u001B[38;5;21;01m.\u001B[39;00m\u001B[38;5;21;01m_portaudio\u001B[39;00m \u001B[38;5;28;01mas\u001B[39;00m \u001B[38;5;21;01mpa\u001B[39;00m\n\u001B[1;32m    112\u001B[0m \u001B[38;5;28;01mexcept\u001B[39;00m \u001B[38;5;167;01mImportError\u001B[39;00m:\n\u001B[1;32m    113\u001B[0m     \u001B[38;5;28mprint\u001B[39m(\u001B[38;5;124m\"\u001B[39m\u001B[38;5;124mCould not import the PyAudio C module \u001B[39m\u001B[38;5;124m'\u001B[39m\u001B[38;5;124mpyaudio._portaudio\u001B[39m\u001B[38;5;124m'\u001B[39m\u001B[38;5;124m.\u001B[39m\u001B[38;5;124m\"\u001B[39m)\n",
      "\u001B[0;31mImportError\u001B[0m: dlopen(/Users/nilsjennissen/PycharmProjects/location_storyteller/venv/lib/python3.9/site-packages/pyaudio/_portaudio.cpython-39-darwin.so, 0x0002): symbol not found in flat namespace '_PaMacCore_SetupChannelMap'"
     ]
    }
   ],
   "source": [
    "import pyaudio\n",
    "import sys\n",
    "import wave"
   ],
   "metadata": {
    "collapsed": false
   }
  },
  {
   "cell_type": "code",
   "execution_count": 13,
   "outputs": [
    {
     "ename": "NameError",
     "evalue": "name 'pyaudio' is not defined",
     "output_type": "error",
     "traceback": [
      "\u001B[0;31m---------------------------------------------------------------------------\u001B[0m",
      "\u001B[0;31mNameError\u001B[0m                                 Traceback (most recent call last)",
      "Cell \u001B[0;32mIn[13], line 2\u001B[0m\n\u001B[1;32m      1\u001B[0m CHUNK \u001B[38;5;241m=\u001B[39m \u001B[38;5;241m1024\u001B[39m\n\u001B[0;32m----> 2\u001B[0m FORMAT \u001B[38;5;241m=\u001B[39m \u001B[43mpyaudio\u001B[49m\u001B[38;5;241m.\u001B[39mpaInt16\n\u001B[1;32m      3\u001B[0m CHANNELS \u001B[38;5;241m=\u001B[39m \u001B[38;5;241m1\u001B[39m\n\u001B[1;32m      4\u001B[0m RATE \u001B[38;5;241m=\u001B[39m \u001B[38;5;241m44100\u001B[39m\n",
      "\u001B[0;31mNameError\u001B[0m: name 'pyaudio' is not defined"
     ]
    }
   ],
   "source": [
    "CHUNK = 1024\n",
    "FORMAT = pyaudio.paInt16\n",
    "CHANNELS = 1\n",
    "RATE = 44100\n",
    "RECORD_SECONDS = 5\n",
    "WAVE_OUTPUT_FILENAME = \"output.wav\"\n",
    "\n",
    "audio = pyaudio.PyAudio()\n",
    "\n",
    "# start Recording\n",
    "stream = audio.open(format=FORMAT, channels=CHANNELS,\n",
    "                    rate=RATE, input=True, frames_per_buffer=CHUNK)\n",
    "\n",
    "print(\"recording...\")\n",
    "\n",
    "frames = []\n",
    "\n",
    "for i in range(0, int(RATE / CHUNK * RECORD_SECONDS)):\n",
    "    data = stream.read(CHUNK)\n",
    "    frames.append(data)\n",
    "\n",
    "# create wave file\n",
    "wf = wave.open(f'data/{WAVE_OUTPUT_FILENAME}', 'wb')\n",
    "wf.setnchannels(CHANNELS)\n",
    "wf.setsampwidth(audio.get_sample_size(FORMAT))\n",
    "wf.setframerate(RATE)\n",
    "wf.writeframes(b''.join(frames))\n",
    "wf.close()\n",
    "\n",
    "stream.stop_stream()\n",
    "print(\"finished recording\")"
   ],
   "metadata": {
    "collapsed": false
   }
  },
  {
   "cell_type": "code",
   "execution_count": 20,
   "outputs": [
    {
     "ename": "EOFError",
     "evalue": "",
     "output_type": "error",
     "traceback": [
      "\u001B[0;31m---------------------------------------------------------------------------\u001B[0m",
      "\u001B[0;31mEOFError\u001B[0m                                  Traceback (most recent call last)",
      "Input \u001B[0;32mIn [20]\u001B[0m, in \u001B[0;36m<cell line: 1>\u001B[0;34m()\u001B[0m\n\u001B[0;32m----> 1\u001B[0m sound \u001B[38;5;241m=\u001B[39m \u001B[43mwave\u001B[49m\u001B[38;5;241;43m.\u001B[39;49m\u001B[43mopen\u001B[49m\u001B[43m(\u001B[49m\u001B[38;5;124;43m\"\u001B[39;49m\u001B[38;5;124;43mdata/output.wav\u001B[39;49m\u001B[38;5;124;43m\"\u001B[39;49m\u001B[43m)\u001B[49m\n\u001B[1;32m      2\u001B[0m p \u001B[38;5;241m=\u001B[39m pyaudio\u001B[38;5;241m.\u001B[39mPyAudio()\n\u001B[1;32m      3\u001B[0m \u001B[38;5;28mprint\u001B[39m(\u001B[38;5;124mf\u001B[39m\u001B[38;5;124m\"\u001B[39m\u001B[38;5;124mStart playing \u001B[39m\u001B[38;5;132;01m{\u001B[39;00msound\u001B[38;5;241m.\u001B[39mgetnchannels()\u001B[38;5;132;01m}\u001B[39;00m\u001B[38;5;124m channels at \u001B[39m\u001B[38;5;132;01m{\u001B[39;00msound\u001B[38;5;241m.\u001B[39mgetframerate()\u001B[38;5;132;01m}\u001B[39;00m\u001B[38;5;124m Hz\u001B[39m\u001B[38;5;124m\"\u001B[39m)\n",
      "File \u001B[0;32m~/opt/anaconda3/lib/python3.9/wave.py:509\u001B[0m, in \u001B[0;36mopen\u001B[0;34m(f, mode)\u001B[0m\n\u001B[1;32m    507\u001B[0m         mode \u001B[38;5;241m=\u001B[39m \u001B[38;5;124m'\u001B[39m\u001B[38;5;124mrb\u001B[39m\u001B[38;5;124m'\u001B[39m\n\u001B[1;32m    508\u001B[0m \u001B[38;5;28;01mif\u001B[39;00m mode \u001B[38;5;129;01min\u001B[39;00m (\u001B[38;5;124m'\u001B[39m\u001B[38;5;124mr\u001B[39m\u001B[38;5;124m'\u001B[39m, \u001B[38;5;124m'\u001B[39m\u001B[38;5;124mrb\u001B[39m\u001B[38;5;124m'\u001B[39m):\n\u001B[0;32m--> 509\u001B[0m     \u001B[38;5;28;01mreturn\u001B[39;00m \u001B[43mWave_read\u001B[49m\u001B[43m(\u001B[49m\u001B[43mf\u001B[49m\u001B[43m)\u001B[49m\n\u001B[1;32m    510\u001B[0m \u001B[38;5;28;01melif\u001B[39;00m mode \u001B[38;5;129;01min\u001B[39;00m (\u001B[38;5;124m'\u001B[39m\u001B[38;5;124mw\u001B[39m\u001B[38;5;124m'\u001B[39m, \u001B[38;5;124m'\u001B[39m\u001B[38;5;124mwb\u001B[39m\u001B[38;5;124m'\u001B[39m):\n\u001B[1;32m    511\u001B[0m     \u001B[38;5;28;01mreturn\u001B[39;00m Wave_write(f)\n",
      "File \u001B[0;32m~/opt/anaconda3/lib/python3.9/wave.py:163\u001B[0m, in \u001B[0;36mWave_read.__init__\u001B[0;34m(self, f)\u001B[0m\n\u001B[1;32m    161\u001B[0m \u001B[38;5;66;03m# else, assume it is an open file object already\u001B[39;00m\n\u001B[1;32m    162\u001B[0m \u001B[38;5;28;01mtry\u001B[39;00m:\n\u001B[0;32m--> 163\u001B[0m     \u001B[38;5;28;43mself\u001B[39;49m\u001B[38;5;241;43m.\u001B[39;49m\u001B[43minitfp\u001B[49m\u001B[43m(\u001B[49m\u001B[43mf\u001B[49m\u001B[43m)\u001B[49m\n\u001B[1;32m    164\u001B[0m \u001B[38;5;28;01mexcept\u001B[39;00m:\n\u001B[1;32m    165\u001B[0m     \u001B[38;5;28;01mif\u001B[39;00m \u001B[38;5;28mself\u001B[39m\u001B[38;5;241m.\u001B[39m_i_opened_the_file:\n",
      "File \u001B[0;32m~/opt/anaconda3/lib/python3.9/wave.py:128\u001B[0m, in \u001B[0;36mWave_read.initfp\u001B[0;34m(self, file)\u001B[0m\n\u001B[1;32m    126\u001B[0m \u001B[38;5;28mself\u001B[39m\u001B[38;5;241m.\u001B[39m_convert \u001B[38;5;241m=\u001B[39m \u001B[38;5;28;01mNone\u001B[39;00m\n\u001B[1;32m    127\u001B[0m \u001B[38;5;28mself\u001B[39m\u001B[38;5;241m.\u001B[39m_soundpos \u001B[38;5;241m=\u001B[39m \u001B[38;5;241m0\u001B[39m\n\u001B[0;32m--> 128\u001B[0m \u001B[38;5;28mself\u001B[39m\u001B[38;5;241m.\u001B[39m_file \u001B[38;5;241m=\u001B[39m \u001B[43mChunk\u001B[49m\u001B[43m(\u001B[49m\u001B[43mfile\u001B[49m\u001B[43m,\u001B[49m\u001B[43m \u001B[49m\u001B[43mbigendian\u001B[49m\u001B[43m \u001B[49m\u001B[38;5;241;43m=\u001B[39;49m\u001B[43m \u001B[49m\u001B[38;5;241;43m0\u001B[39;49m\u001B[43m)\u001B[49m\n\u001B[1;32m    129\u001B[0m \u001B[38;5;28;01mif\u001B[39;00m \u001B[38;5;28mself\u001B[39m\u001B[38;5;241m.\u001B[39m_file\u001B[38;5;241m.\u001B[39mgetname() \u001B[38;5;241m!=\u001B[39m \u001B[38;5;124mb\u001B[39m\u001B[38;5;124m'\u001B[39m\u001B[38;5;124mRIFF\u001B[39m\u001B[38;5;124m'\u001B[39m:\n\u001B[1;32m    130\u001B[0m     \u001B[38;5;28;01mraise\u001B[39;00m Error(\u001B[38;5;124m'\u001B[39m\u001B[38;5;124mfile does not start with RIFF id\u001B[39m\u001B[38;5;124m'\u001B[39m)\n",
      "File \u001B[0;32m~/opt/anaconda3/lib/python3.9/chunk.py:63\u001B[0m, in \u001B[0;36mChunk.__init__\u001B[0;34m(self, file, align, bigendian, inclheader)\u001B[0m\n\u001B[1;32m     61\u001B[0m \u001B[38;5;28mself\u001B[39m\u001B[38;5;241m.\u001B[39mchunkname \u001B[38;5;241m=\u001B[39m file\u001B[38;5;241m.\u001B[39mread(\u001B[38;5;241m4\u001B[39m)\n\u001B[1;32m     62\u001B[0m \u001B[38;5;28;01mif\u001B[39;00m \u001B[38;5;28mlen\u001B[39m(\u001B[38;5;28mself\u001B[39m\u001B[38;5;241m.\u001B[39mchunkname) \u001B[38;5;241m<\u001B[39m \u001B[38;5;241m4\u001B[39m:\n\u001B[0;32m---> 63\u001B[0m     \u001B[38;5;28;01mraise\u001B[39;00m \u001B[38;5;167;01mEOFError\u001B[39;00m\n\u001B[1;32m     64\u001B[0m \u001B[38;5;28;01mtry\u001B[39;00m:\n\u001B[1;32m     65\u001B[0m     \u001B[38;5;28mself\u001B[39m\u001B[38;5;241m.\u001B[39mchunksize \u001B[38;5;241m=\u001B[39m struct\u001B[38;5;241m.\u001B[39munpack_from(strflag\u001B[38;5;241m+\u001B[39m\u001B[38;5;124m'\u001B[39m\u001B[38;5;124mL\u001B[39m\u001B[38;5;124m'\u001B[39m, file\u001B[38;5;241m.\u001B[39mread(\u001B[38;5;241m4\u001B[39m))[\u001B[38;5;241m0\u001B[39m]\n",
      "\u001B[0;31mEOFError\u001B[0m: "
     ]
    }
   ],
   "source": [
    "sound = wave.open(\"data/output.wav\")\n",
    "p = pyaudio.PyAudio()\n",
    "print(f\"Start playing {sound.getnchannels()} channels at {sound.getframerate()} Hz\")\n",
    "chunk = 1024\n",
    "stream = p.open(format=p.get_format_from_width(sound.getsampwidth()),\n",
    "                channels=sound.getnchannels(),\n",
    "                rate=sound.getframerate(),\n",
    "                output=True)\n",
    "data = sound.readframes(chunk)\n",
    "while True:\n",
    "    if data != '':\n",
    "        stream.write(data)\n",
    "        data = sound.readframes(chunk)\n",
    "\n",
    "    if data == b'':\n",
    "        break\n",
    "\n",
    "stream.stop_stream()\n",
    "stream.close()\n",
    "p.terminate()\n",
    "\n",
    "print(\"Finished playing\")"
   ],
   "metadata": {
    "collapsed": false
   }
  },
  {
   "cell_type": "code",
   "execution_count": null,
   "outputs": [],
   "source": [
    "# Function to get surrounding maps elements\n",
    "api_key = credentials.google_api_key\n",
    "\n",
    "lat = 41.382818\n",
    "lng =  2.182477\n",
    "radius = 1000               # -33.8670522,151.1957362&radius=500&\n",
    "types = 'All'\n",
    "search_name = ''\n",
    "\n",
    "def get_map_items(lat, lng, radius, types, search_name):\n",
    "    # Google Maps directions API endpoint\n",
    "    prompt = f'https://maps.googleapis.com/maps/api/place/nearbysearch/json?location={lat},{lng}&radius={radius}&types={types}&name={search_name}&key={api_key}'\n",
    "    # Send request and get response\n",
    "    response = requests.get(prompt)\n",
    "    # Get response data as Python object\n",
    "    data = response.json()\n",
    "    results = data['results']\n",
    "    # Parse the results to a dataframe\n",
    "    df = pd.DataFrame.from_dict(results)\n",
    "    # Prepare df with selected columns\n",
    "    df = df[['geometry', 'name', 'place_id', 'types', 'vicinity', 'business_status', 'rating', 'user_ratings_total', 'opening_hours']]\n",
    "    # Extract lat\n",
    "    df['lat'] = df['geometry'].apply(lambda x: x['location']['lat'])\n",
    "    df['lng'] = df['geometry'].apply(lambda x: x['location']['lng'])\n",
    "    df = df.drop(columns=['geometry'])\n",
    "    # Display the dataframe\n",
    "    return df\n"
   ],
   "metadata": {
    "collapsed": false
   }
  },
  {
   "cell_type": "code",
   "execution_count": null,
   "outputs": [],
   "source": [
    "# Get surrounding maps elements\n",
    "test = get_map_items(lat, lng, radius, types, search_name)\n",
    "test"
   ],
   "metadata": {
    "collapsed": false
   }
  },
  {
   "cell_type": "markdown",
   "source": [],
   "metadata": {
    "collapsed": false
   }
  },
  {
   "cell_type": "code",
   "execution_count": 12,
   "outputs": [],
   "source": [
    "# Function to get surrounding maps elements\n",
    "api_key = credentials.google_api_key\n",
    "\n",
    "lat = 41.382818\n",
    "lng =  2.182477\n",
    "radius = 1000               # -33.8670522,151.1957362&radius=500&\n",
    "types = 'All'\n",
    "search_name = ''\n",
    "\n",
    "def get_map_items(lat, lng, radius, types, search_name):\n",
    "    # Google Maps directions API endpoint\n",
    "    prompt = f'https://maps.googleapis.com/maps/api/place/nearbysearch/json?location={lat},{lng}&radius={radius}&types={types}&name={search_name}&key={api_key}'\n",
    "    # Send request and get response\n",
    "    response = requests.get(prompt)\n",
    "    # Get response data as Python object\n",
    "    data = response.json()\n",
    "    results = data['results']\n",
    "    # Parse the results to a dataframe\n",
    "    df = pd.DataFrame.from_dict(results)\n",
    "    # Prepare df with selected columns\n",
    "    df = df[['geometry', 'name', 'place_id', 'types', 'vicinity', 'business_status', 'rating', 'user_ratings_total', 'opening_hours']]\n",
    "    # Extract lat\n",
    "    df['lat'] = df['geometry'].apply(lambda x: x['location']['lat'])\n",
    "    df['lng'] = df['geometry'].apply(lambda x: x['location']['lng'])\n",
    "    df = df.drop(columns=['geometry'])\n",
    "    # Display the dataframe\n",
    "    return df\n"
   ],
   "metadata": {
    "collapsed": false
   }
  },
  {
   "cell_type": "code",
   "execution_count": 13,
   "outputs": [
    {
     "data": {
      "text/plain": "                                                 name  \\\n0                                           Barcelona   \n1                                        H10 Montcada   \n2                                 Grand Hotel Central   \n3                      Oriente Atiram Hotel Barcelona   \n4                                        Hotel España   \n5                           K+K Hotel Picasso El Born   \n6             RAMBLAS HOTEL powered by Vincci Hoteles   \n7                                 Hotel HCC Montblanc   \n8                              Mercer Hotel Barcelona   \n9                       Hotel Neri Relais & Chateaux‎   \n10                                        Hotel Oasis   \n11                                           Da Nanni   \n12                                        Hotel Suizo   \n13                             Hotel Condal Barcelona   \n14                                   Hotel Flor Parks   \n15  Hotel ILUNION Almirante (Barrio Gótico, Barcel...   \n16                           Hotel Barcelona Catedral   \n17                 Hotel Duquesa de Cardona Barcelona   \n18                                 Restaurant El Foro   \n19                                         Sant Martí   \n\n                       place_id  \\\n0   ChIJ5TCOcRaYpBIRCmZHTz37sEQ   \n1   ChIJjSlZP_mipBIR0_YxNCqjkTs   \n2   ChIJg1-2b_mipBIRirLgoXI-GXU   \n3   ChIJofXmHliipBIR4iyHDfDXnJA   \n4   ChIJY6oYcliipBIRRvaQXvMe0KY   \n5   ChIJc2TJ9P2ipBIRA65Mte-Mak8   \n6   ChIJbSlW1PeipBIRe0EQZnJJWUc   \n7   ChIJHagl9fCipBIRdsXraeNfmvw   \n8   ChIJQ8ly2viipBIRZANMAFMePb8   \n9   ChIJWU9gM_iipBIRBo0JgzCmYjI   \n10  ChIJu-j3KwCjpBIRGyMRxhc9jjo   \n11  ChIJk_S0dv6ipBIRTseTfN_uc1g   \n12  ChIJn4lKN_mipBIRc8qgol7RIro   \n13  ChIJzwWNcViipBIRZRlzhhFPQvw   \n14  ChIJ28keCFiipBIRAoeXr7g6iVs   \n15  ChIJLeQ8JPqipBIRkCQvTVKBJb0   \n16  ChIJmRxO7_mipBIRdCiunF_6N_U   \n17  ChIJsQcVk1WipBIR5bqvII0Gqqg   \n18  ChIJawSgt_2ipBIR6dBzsSq7yUE   \n19  ChIJ06_4HDmjpBIRomlqqIDieDc   \n\n                                                types  \\\n0                               [locality, political]   \n1         [lodging, point_of_interest, establishment]   \n2   [bar, lodging, spa, restaurant, food, point_of...   \n3         [lodging, point_of_interest, establishment]   \n4         [lodging, point_of_interest, establishment]   \n5         [lodging, point_of_interest, establishment]   \n6         [lodging, point_of_interest, establishment]   \n7         [lodging, point_of_interest, establishment]   \n8         [lodging, point_of_interest, establishment]   \n9         [lodging, point_of_interest, establishment]   \n10        [lodging, point_of_interest, establishment]   \n11  [restaurant, food, point_of_interest, establis...   \n12        [lodging, point_of_interest, establishment]   \n13        [lodging, point_of_interest, establishment]   \n14        [lodging, point_of_interest, establishment]   \n15        [lodging, point_of_interest, establishment]   \n16  [lodging, restaurant, food, point_of_interest,...   \n17        [lodging, point_of_interest, establishment]   \n18  [meal_takeaway, bar, restaurant, food, point_o...   \n19      [sublocality_level_1, sublocality, political]   \n\n                                 vicinity business_status  rating  \\\n0                               Barcelona             NaN     NaN   \n1             Via Laietana, 24, Barcelona     OPERATIONAL     4.5   \n2             Via Laietana, 30, Barcelona     OPERATIONAL     4.5   \n3    Rambla dels Caputxins, 45, Barcelona     OPERATIONAL     4.0   \n4     Carrer de Sant Pau, 9-11, Barcelona     OPERATIONAL     4.4   \n5   Passeig de Picasso, 26, 30, Barcelona     OPERATIONAL     4.4   \n6     Carrer de l'Hospital, 26, Barcelona     OPERATIONAL     4.3   \n7             Via Laietana, 61, Barcelona     OPERATIONAL     4.3   \n8         Carrer dels Lledó, 7, Barcelona     OPERATIONAL     4.6   \n9      Carrer de Sant Sever, 5, Barcelona     OPERATIONAL     4.4   \n10            Pla de Palau, 17, Barcelona     OPERATIONAL     4.1   \n11          Carrer del Rec, 30, Barcelona     OPERATIONAL     3.8   \n12        plaça de l'Àngel, 12, Barcelona     OPERATIONAL     4.1   \n13   Carrer de la Boqueria, 23, Barcelona     OPERATIONAL     3.9   \n14               La Rambla, 70, Barcelona     OPERATIONAL     4.3   \n15     Calle, Via Laietana, 42, Barcelona     OPERATIONAL     3.6   \n16    Carrer dels Capellans, 4, Barcelona     OPERATIONAL     4.3   \n17        Passeig de Colom, 12, Barcelona     OPERATIONAL     4.5   \n18   Carrer de la Princesa, 53, Barcelona     OPERATIONAL     4.2   \n19                             Sant Martí             NaN     NaN   \n\n    user_ratings_total        opening_hours        lat       lng  \n0                  NaN                  NaN  41.387397  2.168568  \n1                790.0   {'open_now': True}  41.384388  2.178517  \n2               1107.0   {'open_now': True}  41.384971  2.177765  \n3               1590.0   {'open_now': True}  41.379727  2.174221  \n4                879.0                  NaN  41.379911  2.172841  \n5               1014.0   {'open_now': True}  41.386713  2.183873  \n6                540.0   {'open_now': True}  41.380960  2.172125  \n7               2112.0   {'open_now': True}  41.387867  2.173367  \n8                311.0                  NaN  41.382539  2.178967  \n9                467.0   {'open_now': True}  41.383172  2.175381  \n10              1067.0   {'open_now': True}  41.382779  2.184767  \n11              1621.0  {'open_now': False}  41.385273  2.182687  \n12               889.0   {'open_now': True}  41.383787  2.178323  \n13               594.0   {'open_now': True}  41.381577  2.174290  \n14               431.0   {'open_now': True}  41.380727  2.173938  \n15               961.0   {'open_now': True}  41.386032  2.176199  \n16               826.0   {'open_now': True}  41.384812  2.175112  \n17              1455.0   {'open_now': True}  41.379807  2.180462  \n18              2247.0   {'open_now': True}  41.386908  2.182167  \n19                 NaN                  NaN  41.410010  2.202980  ",
      "text/html": "<div>\n<style scoped>\n    .dataframe tbody tr th:only-of-type {\n        vertical-align: middle;\n    }\n\n    .dataframe tbody tr th {\n        vertical-align: top;\n    }\n\n    .dataframe thead th {\n        text-align: right;\n    }\n</style>\n<table border=\"1\" class=\"dataframe\">\n  <thead>\n    <tr style=\"text-align: right;\">\n      <th></th>\n      <th>name</th>\n      <th>place_id</th>\n      <th>types</th>\n      <th>vicinity</th>\n      <th>business_status</th>\n      <th>rating</th>\n      <th>user_ratings_total</th>\n      <th>opening_hours</th>\n      <th>lat</th>\n      <th>lng</th>\n    </tr>\n  </thead>\n  <tbody>\n    <tr>\n      <th>0</th>\n      <td>Barcelona</td>\n      <td>ChIJ5TCOcRaYpBIRCmZHTz37sEQ</td>\n      <td>[locality, political]</td>\n      <td>Barcelona</td>\n      <td>NaN</td>\n      <td>NaN</td>\n      <td>NaN</td>\n      <td>NaN</td>\n      <td>41.387397</td>\n      <td>2.168568</td>\n    </tr>\n    <tr>\n      <th>1</th>\n      <td>H10 Montcada</td>\n      <td>ChIJjSlZP_mipBIR0_YxNCqjkTs</td>\n      <td>[lodging, point_of_interest, establishment]</td>\n      <td>Via Laietana, 24, Barcelona</td>\n      <td>OPERATIONAL</td>\n      <td>4.5</td>\n      <td>790.0</td>\n      <td>{'open_now': True}</td>\n      <td>41.384388</td>\n      <td>2.178517</td>\n    </tr>\n    <tr>\n      <th>2</th>\n      <td>Grand Hotel Central</td>\n      <td>ChIJg1-2b_mipBIRirLgoXI-GXU</td>\n      <td>[bar, lodging, spa, restaurant, food, point_of...</td>\n      <td>Via Laietana, 30, Barcelona</td>\n      <td>OPERATIONAL</td>\n      <td>4.5</td>\n      <td>1107.0</td>\n      <td>{'open_now': True}</td>\n      <td>41.384971</td>\n      <td>2.177765</td>\n    </tr>\n    <tr>\n      <th>3</th>\n      <td>Oriente Atiram Hotel Barcelona</td>\n      <td>ChIJofXmHliipBIR4iyHDfDXnJA</td>\n      <td>[lodging, point_of_interest, establishment]</td>\n      <td>Rambla dels Caputxins, 45, Barcelona</td>\n      <td>OPERATIONAL</td>\n      <td>4.0</td>\n      <td>1590.0</td>\n      <td>{'open_now': True}</td>\n      <td>41.379727</td>\n      <td>2.174221</td>\n    </tr>\n    <tr>\n      <th>4</th>\n      <td>Hotel España</td>\n      <td>ChIJY6oYcliipBIRRvaQXvMe0KY</td>\n      <td>[lodging, point_of_interest, establishment]</td>\n      <td>Carrer de Sant Pau, 9-11, Barcelona</td>\n      <td>OPERATIONAL</td>\n      <td>4.4</td>\n      <td>879.0</td>\n      <td>NaN</td>\n      <td>41.379911</td>\n      <td>2.172841</td>\n    </tr>\n    <tr>\n      <th>5</th>\n      <td>K+K Hotel Picasso El Born</td>\n      <td>ChIJc2TJ9P2ipBIRA65Mte-Mak8</td>\n      <td>[lodging, point_of_interest, establishment]</td>\n      <td>Passeig de Picasso, 26, 30, Barcelona</td>\n      <td>OPERATIONAL</td>\n      <td>4.4</td>\n      <td>1014.0</td>\n      <td>{'open_now': True}</td>\n      <td>41.386713</td>\n      <td>2.183873</td>\n    </tr>\n    <tr>\n      <th>6</th>\n      <td>RAMBLAS HOTEL powered by Vincci Hoteles</td>\n      <td>ChIJbSlW1PeipBIRe0EQZnJJWUc</td>\n      <td>[lodging, point_of_interest, establishment]</td>\n      <td>Carrer de l'Hospital, 26, Barcelona</td>\n      <td>OPERATIONAL</td>\n      <td>4.3</td>\n      <td>540.0</td>\n      <td>{'open_now': True}</td>\n      <td>41.380960</td>\n      <td>2.172125</td>\n    </tr>\n    <tr>\n      <th>7</th>\n      <td>Hotel HCC Montblanc</td>\n      <td>ChIJHagl9fCipBIRdsXraeNfmvw</td>\n      <td>[lodging, point_of_interest, establishment]</td>\n      <td>Via Laietana, 61, Barcelona</td>\n      <td>OPERATIONAL</td>\n      <td>4.3</td>\n      <td>2112.0</td>\n      <td>{'open_now': True}</td>\n      <td>41.387867</td>\n      <td>2.173367</td>\n    </tr>\n    <tr>\n      <th>8</th>\n      <td>Mercer Hotel Barcelona</td>\n      <td>ChIJQ8ly2viipBIRZANMAFMePb8</td>\n      <td>[lodging, point_of_interest, establishment]</td>\n      <td>Carrer dels Lledó, 7, Barcelona</td>\n      <td>OPERATIONAL</td>\n      <td>4.6</td>\n      <td>311.0</td>\n      <td>NaN</td>\n      <td>41.382539</td>\n      <td>2.178967</td>\n    </tr>\n    <tr>\n      <th>9</th>\n      <td>Hotel Neri Relais &amp; Chateaux‎</td>\n      <td>ChIJWU9gM_iipBIRBo0JgzCmYjI</td>\n      <td>[lodging, point_of_interest, establishment]</td>\n      <td>Carrer de Sant Sever, 5, Barcelona</td>\n      <td>OPERATIONAL</td>\n      <td>4.4</td>\n      <td>467.0</td>\n      <td>{'open_now': True}</td>\n      <td>41.383172</td>\n      <td>2.175381</td>\n    </tr>\n    <tr>\n      <th>10</th>\n      <td>Hotel Oasis</td>\n      <td>ChIJu-j3KwCjpBIRGyMRxhc9jjo</td>\n      <td>[lodging, point_of_interest, establishment]</td>\n      <td>Pla de Palau, 17, Barcelona</td>\n      <td>OPERATIONAL</td>\n      <td>4.1</td>\n      <td>1067.0</td>\n      <td>{'open_now': True}</td>\n      <td>41.382779</td>\n      <td>2.184767</td>\n    </tr>\n    <tr>\n      <th>11</th>\n      <td>Da Nanni</td>\n      <td>ChIJk_S0dv6ipBIRTseTfN_uc1g</td>\n      <td>[restaurant, food, point_of_interest, establis...</td>\n      <td>Carrer del Rec, 30, Barcelona</td>\n      <td>OPERATIONAL</td>\n      <td>3.8</td>\n      <td>1621.0</td>\n      <td>{'open_now': False}</td>\n      <td>41.385273</td>\n      <td>2.182687</td>\n    </tr>\n    <tr>\n      <th>12</th>\n      <td>Hotel Suizo</td>\n      <td>ChIJn4lKN_mipBIRc8qgol7RIro</td>\n      <td>[lodging, point_of_interest, establishment]</td>\n      <td>plaça de l'Àngel, 12, Barcelona</td>\n      <td>OPERATIONAL</td>\n      <td>4.1</td>\n      <td>889.0</td>\n      <td>{'open_now': True}</td>\n      <td>41.383787</td>\n      <td>2.178323</td>\n    </tr>\n    <tr>\n      <th>13</th>\n      <td>Hotel Condal Barcelona</td>\n      <td>ChIJzwWNcViipBIRZRlzhhFPQvw</td>\n      <td>[lodging, point_of_interest, establishment]</td>\n      <td>Carrer de la Boqueria, 23, Barcelona</td>\n      <td>OPERATIONAL</td>\n      <td>3.9</td>\n      <td>594.0</td>\n      <td>{'open_now': True}</td>\n      <td>41.381577</td>\n      <td>2.174290</td>\n    </tr>\n    <tr>\n      <th>14</th>\n      <td>Hotel Flor Parks</td>\n      <td>ChIJ28keCFiipBIRAoeXr7g6iVs</td>\n      <td>[lodging, point_of_interest, establishment]</td>\n      <td>La Rambla, 70, Barcelona</td>\n      <td>OPERATIONAL</td>\n      <td>4.3</td>\n      <td>431.0</td>\n      <td>{'open_now': True}</td>\n      <td>41.380727</td>\n      <td>2.173938</td>\n    </tr>\n    <tr>\n      <th>15</th>\n      <td>Hotel ILUNION Almirante (Barrio Gótico, Barcel...</td>\n      <td>ChIJLeQ8JPqipBIRkCQvTVKBJb0</td>\n      <td>[lodging, point_of_interest, establishment]</td>\n      <td>Calle, Via Laietana, 42, Barcelona</td>\n      <td>OPERATIONAL</td>\n      <td>3.6</td>\n      <td>961.0</td>\n      <td>{'open_now': True}</td>\n      <td>41.386032</td>\n      <td>2.176199</td>\n    </tr>\n    <tr>\n      <th>16</th>\n      <td>Hotel Barcelona Catedral</td>\n      <td>ChIJmRxO7_mipBIRdCiunF_6N_U</td>\n      <td>[lodging, restaurant, food, point_of_interest,...</td>\n      <td>Carrer dels Capellans, 4, Barcelona</td>\n      <td>OPERATIONAL</td>\n      <td>4.3</td>\n      <td>826.0</td>\n      <td>{'open_now': True}</td>\n      <td>41.384812</td>\n      <td>2.175112</td>\n    </tr>\n    <tr>\n      <th>17</th>\n      <td>Hotel Duquesa de Cardona Barcelona</td>\n      <td>ChIJsQcVk1WipBIR5bqvII0Gqqg</td>\n      <td>[lodging, point_of_interest, establishment]</td>\n      <td>Passeig de Colom, 12, Barcelona</td>\n      <td>OPERATIONAL</td>\n      <td>4.5</td>\n      <td>1455.0</td>\n      <td>{'open_now': True}</td>\n      <td>41.379807</td>\n      <td>2.180462</td>\n    </tr>\n    <tr>\n      <th>18</th>\n      <td>Restaurant El Foro</td>\n      <td>ChIJawSgt_2ipBIR6dBzsSq7yUE</td>\n      <td>[meal_takeaway, bar, restaurant, food, point_o...</td>\n      <td>Carrer de la Princesa, 53, Barcelona</td>\n      <td>OPERATIONAL</td>\n      <td>4.2</td>\n      <td>2247.0</td>\n      <td>{'open_now': True}</td>\n      <td>41.386908</td>\n      <td>2.182167</td>\n    </tr>\n    <tr>\n      <th>19</th>\n      <td>Sant Martí</td>\n      <td>ChIJ06_4HDmjpBIRomlqqIDieDc</td>\n      <td>[sublocality_level_1, sublocality, political]</td>\n      <td>Sant Martí</td>\n      <td>NaN</td>\n      <td>NaN</td>\n      <td>NaN</td>\n      <td>NaN</td>\n      <td>41.410010</td>\n      <td>2.202980</td>\n    </tr>\n  </tbody>\n</table>\n</div>"
     },
     "execution_count": 13,
     "metadata": {},
     "output_type": "execute_result"
    }
   ],
   "source": [
    "# Get surrounding maps elements\n",
    "test = get_map_items(lat, lng, radius, types, search_name)\n",
    "test"
   ],
   "metadata": {
    "collapsed": false
   }
  },
  {
   "cell_type": "code",
   "execution_count": null,
   "outputs": [],
   "source": [],
   "metadata": {
    "collapsed": false
   }
  }
 ],
 "metadata": {
  "kernelspec": {
   "display_name": "Python 3",
   "language": "python",
   "name": "python3"
  },
  "language_info": {
   "codemirror_mode": {
    "name": "ipython",
    "version": 2
   },
   "file_extension": ".py",
   "mimetype": "text/x-python",
   "name": "python",
   "nbconvert_exporter": "python",
   "pygments_lexer": "ipython2",
   "version": "2.7.6"
  }
 },
 "nbformat": 4,
 "nbformat_minor": 0
}
